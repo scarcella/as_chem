{
 "cells": [
  {
   "cell_type": "markdown",
   "metadata": {},
   "source": [
    "### This specifically focuses on the application of adjacency matrices and edge indices"
   ]
  },
  {
   "cell_type": "markdown",
   "metadata": {},
   "source": [
    "#### We will use molecules as the application example"
   ]
  },
  {
   "cell_type": "code",
   "execution_count": 9,
   "metadata": {},
   "outputs": [],
   "source": [
    "import torch"
   ]
  },
  {
   "cell_type": "code",
   "execution_count": 4,
   "metadata": {},
   "outputs": [],
   "source": [
    "from rdkit import Chem\n",
    "suppl = Chem.SDMolSupplier('/home/alessandro/workshop/Learning/CompBio/Data/5ht3ligs.sdf')\n",
    "mol = suppl[0]"
   ]
  },
  {
   "cell_type": "code",
   "execution_count": 15,
   "metadata": {},
   "outputs": [],
   "source": [
    "def bond_index(mol):\n",
    "        edges = []\n",
    "        for bond in iter(mol.GetBonds()):\n",
    "            edges.append([bond.GetBeginAtomIdx(), bond.GetEndAtomIdx()])\n",
    "            edges.append([bond.GetEndAtomIdx(), bond.GetBeginAtomIdx()])\n",
    "        bond_index = torch.tensor(edges, dtype=torch.long).t().contiguous()\n",
    "        return edges,bond_index\n",
    "    \n",
    "def self_bonds(mol):\n",
    "        self_edges = [[i,i] for i in range(mol.GetNumAtoms())]\n",
    "        return self_edges"
   ]
  },
  {
   "cell_type": "code",
   "execution_count": 16,
   "metadata": {},
   "outputs": [],
   "source": [
    "E, BI = bond_index(mol)"
   ]
  },
  {
   "cell_type": "code",
   "execution_count": 17,
   "metadata": {},
   "outputs": [
    {
     "data": {
      "text/plain": [
       "<rdkit.Chem.rdchem._ROBondSeq at 0x7f15238ad9e0>"
      ]
     },
     "execution_count": 17,
     "metadata": {},
     "output_type": "execute_result"
    }
   ],
   "source": [
    "mol.GetBonds()"
   ]
  },
  {
   "cell_type": "markdown",
   "metadata": {},
   "source": [
    "### Edge representation"
   ]
  },
  {
   "cell_type": "code",
   "execution_count": 20,
   "metadata": {},
   "outputs": [
    {
     "data": {
      "text/plain": [
       "[[0, 1],\n",
       " [1, 0],\n",
       " [0, 2],\n",
       " [2, 0],\n",
       " [0, 3],\n",
       " [3, 0],\n",
       " [1, 4],\n",
       " [4, 1],\n",
       " [1, 5],\n",
       " [5, 1],\n",
       " [2, 6],\n",
       " [6, 2],\n",
       " [2, 7],\n",
       " [7, 2],\n",
       " [3, 8],\n",
       " [8, 3],\n",
       " [5, 9],\n",
       " [9, 5],\n",
       " [5, 10],\n",
       " [10, 5],\n",
       " [7, 11],\n",
       " [11, 7],\n",
       " [9, 12],\n",
       " [12, 9],\n",
       " [12, 13],\n",
       " [13, 12],\n",
       " [13, 14],\n",
       " [14, 13],\n",
       " [13, 15],\n",
       " [15, 13],\n",
       " [14, 16],\n",
       " [16, 14],\n",
       " [14, 17],\n",
       " [17, 14],\n",
       " [15, 18],\n",
       " [18, 15],\n",
       " [16, 19],\n",
       " [19, 16],\n",
       " [4, 6],\n",
       " [6, 4],\n",
       " [8, 11],\n",
       " [11, 8],\n",
       " [18, 19],\n",
       " [19, 18]]"
      ]
     },
     "execution_count": 20,
     "metadata": {},
     "output_type": "execute_result"
    }
   ],
   "source": [
    "E"
   ]
  },
  {
   "cell_type": "markdown",
   "metadata": {},
   "source": [
    "## Coordinate Format (COO) "
   ]
  },
  {
   "cell_type": "code",
   "execution_count": 21,
   "metadata": {},
   "outputs": [
    {
     "data": {
      "text/plain": [
       "tensor([[ 0,  1,  0,  2,  0,  3,  1,  4,  1,  5,  2,  6,  2,  7,  3,  8,  5,  9,\n",
       "          5, 10,  7, 11,  9, 12, 12, 13, 13, 14, 13, 15, 14, 16, 14, 17, 15, 18,\n",
       "         16, 19,  4,  6,  8, 11, 18, 19],\n",
       "        [ 1,  0,  2,  0,  3,  0,  4,  1,  5,  1,  6,  2,  7,  2,  8,  3,  9,  5,\n",
       "         10,  5, 11,  7, 12,  9, 13, 12, 14, 13, 15, 13, 16, 14, 17, 14, 18, 15,\n",
       "         19, 16,  6,  4, 11,  8, 19, 18]])"
      ]
     },
     "execution_count": 21,
     "metadata": {},
     "output_type": "execute_result"
    }
   ],
   "source": [
    "BI"
   ]
  },
  {
   "cell_type": "markdown",
   "metadata": {},
   "source": [
    "### Converting COO into a sparse matrix with 1s at all the edges"
   ]
  },
  {
   "cell_type": "code",
   "execution_count": 23,
   "metadata": {},
   "outputs": [],
   "source": [
    "coo_tensor = torch.sparse_coo_tensor(BI, torch.ones(BI.shape[1]))"
   ]
  },
  {
   "cell_type": "code",
   "execution_count": 47,
   "metadata": {},
   "outputs": [
    {
     "data": {
      "text/plain": [
       "device(type='cpu')"
      ]
     },
     "execution_count": 47,
     "metadata": {},
     "output_type": "execute_result"
    }
   ],
   "source": [
    "coo_tensor.device"
   ]
  },
  {
   "cell_type": "markdown",
   "metadata": {},
   "source": [
    "### Converting back to COO format"
   ]
  },
  {
   "cell_type": "markdown",
   "metadata": {},
   "source": [
    "##### returns an uncoalesced tensor therefore need to coalesce first"
   ]
  },
  {
   "cell_type": "code",
   "execution_count": 31,
   "metadata": {},
   "outputs": [],
   "source": [
    "BI2 = coo_tensor.coalesce().indices()"
   ]
  },
  {
   "cell_type": "markdown",
   "metadata": {},
   "source": [
    "\n",
    "###### has the nice side effect of sorting the data"
   ]
  },
  {
   "cell_type": "code",
   "execution_count": 42,
   "metadata": {},
   "outputs": [
    {
     "data": {
      "text/plain": [
       "tensor([[ 0,  0,  0,  1,  1,  1,  2,  2,  2,  3,  3,  4,  4,  5,  5,  5,  6,  6,\n",
       "          7,  7,  8,  8,  9,  9, 10, 11, 11, 12, 12, 13, 13, 13, 14, 14, 14, 15,\n",
       "         15, 16, 16, 17, 18, 18, 19, 19],\n",
       "        [ 1,  2,  3,  0,  4,  5,  0,  6,  7,  0,  8,  1,  6,  1,  9, 10,  2,  4,\n",
       "          2, 11,  3, 11,  5, 12,  5,  7,  8,  9, 13, 12, 14, 15, 13, 16, 17, 13,\n",
       "         18, 14, 19, 14, 15, 19, 16, 18]])"
      ]
     },
     "execution_count": 42,
     "metadata": {},
     "output_type": "execute_result"
    }
   ],
   "source": [
    "BI2"
   ]
  },
  {
   "cell_type": "code",
   "execution_count": 46,
   "metadata": {},
   "outputs": [
    {
     "data": {
      "text/plain": [
       "tensor([ 0,  0,  0,  1,  1,  1,  2,  2,  2,  3,  3,  4,  4,  5,  5,  5,  6,  6,\n",
       "         7,  7,  8,  8,  9,  9, 10, 11, 11, 12, 12, 13, 13, 13, 14, 14, 14, 15,\n",
       "        15, 16, 16, 17, 18, 18, 19, 19])"
      ]
     },
     "execution_count": 46,
     "metadata": {},
     "output_type": "execute_result"
    }
   ],
   "source": [
    "BI2[0]"
   ]
  },
  {
   "cell_type": "markdown",
   "metadata": {},
   "source": [
    "### Converting back to Edge Index/Adjacency list"
   ]
  },
  {
   "cell_type": "code",
   "execution_count": 40,
   "metadata": {},
   "outputs": [],
   "source": [
    "E2 = [list(e) for e in zip(BI2.tolist()[0], BI2.tolist()[1])]"
   ]
  },
  {
   "cell_type": "code",
   "execution_count": 41,
   "metadata": {
    "scrolled": true
   },
   "outputs": [
    {
     "data": {
      "text/plain": [
       "[[0, 1],\n",
       " [0, 2],\n",
       " [0, 3],\n",
       " [1, 0],\n",
       " [1, 4],\n",
       " [1, 5],\n",
       " [2, 0],\n",
       " [2, 6],\n",
       " [2, 7],\n",
       " [3, 0],\n",
       " [3, 8],\n",
       " [4, 1],\n",
       " [4, 6],\n",
       " [5, 1],\n",
       " [5, 9],\n",
       " [5, 10],\n",
       " [6, 2],\n",
       " [6, 4],\n",
       " [7, 2],\n",
       " [7, 11],\n",
       " [8, 3],\n",
       " [8, 11],\n",
       " [9, 5],\n",
       " [9, 12],\n",
       " [10, 5],\n",
       " [11, 7],\n",
       " [11, 8],\n",
       " [12, 9],\n",
       " [12, 13],\n",
       " [13, 12],\n",
       " [13, 14],\n",
       " [13, 15],\n",
       " [14, 13],\n",
       " [14, 16],\n",
       " [14, 17],\n",
       " [15, 13],\n",
       " [15, 18],\n",
       " [16, 14],\n",
       " [16, 19],\n",
       " [17, 14],\n",
       " [18, 15],\n",
       " [18, 19],\n",
       " [19, 16],\n",
       " [19, 18]]"
      ]
     },
     "execution_count": 41,
     "metadata": {},
     "output_type": "execute_result"
    }
   ],
   "source": [
    "E2"
   ]
  },
  {
   "cell_type": "code",
   "execution_count": 51,
   "metadata": {},
   "outputs": [
    {
     "ename": "TypeError",
     "evalue": "new() received an invalid combination of arguments - got (int, int, dtype=torch.dtype), but expected one of:\n * (*, torch.device device)\n * (torch.Storage storage)\n * (Tensor other)\n * (tuple of ints size, *, torch.device device)\n      didn't match because some of the keywords were incorrect: dtype\n * (object data, *, torch.device device)\n      didn't match because some of the keywords were incorrect: dtype\n",
     "output_type": "error",
     "traceback": [
      "\u001b[0;31m---------------------------------------------------------------------------\u001b[0m",
      "\u001b[0;31mTypeError\u001b[0m                                 Traceback (most recent call last)",
      "\u001b[0;32m<ipython-input-51-8634f2cbeb18>\u001b[0m in \u001b[0;36m<module>\u001b[0;34m\u001b[0m\n\u001b[0;32m----> 1\u001b[0;31m \u001b[0mtorch\u001b[0m\u001b[0;34m.\u001b[0m\u001b[0mTensor\u001b[0m\u001b[0;34m(\u001b[0m\u001b[0;36m3\u001b[0m\u001b[0;34m,\u001b[0m\u001b[0;36m3\u001b[0m\u001b[0;34m,\u001b[0m \u001b[0mdtype\u001b[0m\u001b[0;34m=\u001b[0m\u001b[0mtorch\u001b[0m\u001b[0;34m.\u001b[0m\u001b[0mfloat32\u001b[0m\u001b[0;34m)\u001b[0m\u001b[0;34m\u001b[0m\u001b[0;34m\u001b[0m\u001b[0m\n\u001b[0m",
      "\u001b[0;31mTypeError\u001b[0m: new() received an invalid combination of arguments - got (int, int, dtype=torch.dtype), but expected one of:\n * (*, torch.device device)\n * (torch.Storage storage)\n * (Tensor other)\n * (tuple of ints size, *, torch.device device)\n      didn't match because some of the keywords were incorrect: dtype\n * (object data, *, torch.device device)\n      didn't match because some of the keywords were incorrect: dtype\n"
     ]
    }
   ],
   "source": [
    "torch.Tensor(3,3, dtype=torch.float32)"
   ]
  },
  {
   "cell_type": "code",
   "execution_count": null,
   "metadata": {},
   "outputs": [],
   "source": []
  }
 ],
 "metadata": {
  "kernelspec": {
   "display_name": "Python [conda env:as_chem]",
   "language": "python",
   "name": "conda-env-as_chem-py"
  },
  "language_info": {
   "codemirror_mode": {
    "name": "ipython",
    "version": 3
   },
   "file_extension": ".py",
   "mimetype": "text/x-python",
   "name": "python",
   "nbconvert_exporter": "python",
   "pygments_lexer": "ipython3",
   "version": "3.7.8"
  }
 },
 "nbformat": 4,
 "nbformat_minor": 2
}
