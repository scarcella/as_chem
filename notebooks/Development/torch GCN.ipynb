{
 "cells": [
  {
   "cell_type": "code",
   "execution_count": 2,
   "metadata": {
    "jupyter": {
     "source_hidden": true
    }
   },
   "outputs": [
    {
     "data": {
      "text/html": [
       "<script>\n",
       "code_show_err=false; \n",
       "function code_toggle_err() {\n",
       " if (code_show_err){\n",
       " $('div.output_stderr').hide();\n",
       " } else {\n",
       " $('div.output_stderr').show();\n",
       " }\n",
       " code_show_err = !code_show_err\n",
       "} \n",
       "$( document ).ready(code_toggle_err);\n",
       "</script>\n",
       "To toggle on/off output_stderr, click <a href=\"javascript:code_toggle_err()\">here</a>."
      ],
      "text/plain": [
       "<IPython.core.display.HTML object>"
      ]
     },
     "execution_count": 2,
     "metadata": {},
     "output_type": "execute_result"
    }
   ],
   "source": [
    "from IPython.display import HTML\n",
    "HTML('''<script>\n",
    "code_show_err=false; \n",
    "function code_toggle_err() {\n",
    " if (code_show_err){\n",
    " $('div.output_stderr').hide();\n",
    " } else {\n",
    " $('div.output_stderr').show();\n",
    " }\n",
    " code_show_err = !code_show_err\n",
    "} \n",
    "$( document ).ready(code_toggle_err);\n",
    "</script>\n",
    "To toggle on/off output_stderr, click <a href=\"javascript:code_toggle_err()\">here</a>.''')"
   ]
  },
  {
   "cell_type": "code",
   "execution_count": 3,
   "metadata": {},
   "outputs": [],
   "source": [
    "from pathlib import Path\n",
    "import pandas as pd\n",
    "from sklearn.model_selection import train_test_split"
   ]
  },
  {
   "cell_type": "code",
   "execution_count": 4,
   "metadata": {},
   "outputs": [],
   "source": [
    "import sys"
   ]
  },
  {
   "cell_type": "code",
   "execution_count": 5,
   "metadata": {},
   "outputs": [],
   "source": [
    "import sys\n",
    "sys.path.append('../../as_chem/')\n"
   ]
  },
  {
   "cell_type": "markdown",
   "metadata": {},
   "source": [
    "### Get raw data"
   ]
  },
  {
   "cell_type": "code",
   "execution_count": 6,
   "metadata": {},
   "outputs": [],
   "source": [
    "tox21_tasks = [\n",
    "      'NR-AR', 'NR-AR-LBD', 'NR-AhR', 'NR-Aromatase', 'NR-ER', 'NR-ER-LBD',\n",
    "      'NR-PPAR-gamma', 'SR-ARE', 'SR-ATAD5', 'SR-HSE', 'SR-MMP', 'SR-p53'\n",
    "  ]\n",
    "\n",
    "dataset_file = Path('../../datasets/tox21.csv.gz')"
   ]
  },
  {
   "cell_type": "code",
   "execution_count": 7,
   "metadata": {},
   "outputs": [],
   "source": [
    "tox21 = pd.read_csv(dataset_file)"
   ]
  },
  {
   "cell_type": "code",
   "execution_count": 8,
   "metadata": {},
   "outputs": [
    {
     "data": {
      "text/html": [
       "<div>\n",
       "<style scoped>\n",
       "    .dataframe tbody tr th:only-of-type {\n",
       "        vertical-align: middle;\n",
       "    }\n",
       "\n",
       "    .dataframe tbody tr th {\n",
       "        vertical-align: top;\n",
       "    }\n",
       "\n",
       "    .dataframe thead th {\n",
       "        text-align: right;\n",
       "    }\n",
       "</style>\n",
       "<table border=\"1\" class=\"dataframe\">\n",
       "  <thead>\n",
       "    <tr style=\"text-align: right;\">\n",
       "      <th></th>\n",
       "      <th>NR-AR</th>\n",
       "      <th>NR-AR-LBD</th>\n",
       "      <th>NR-AhR</th>\n",
       "      <th>NR-Aromatase</th>\n",
       "      <th>NR-ER</th>\n",
       "      <th>NR-ER-LBD</th>\n",
       "      <th>NR-PPAR-gamma</th>\n",
       "      <th>SR-ARE</th>\n",
       "      <th>SR-ATAD5</th>\n",
       "      <th>SR-HSE</th>\n",
       "      <th>SR-MMP</th>\n",
       "      <th>SR-p53</th>\n",
       "      <th>mol_id</th>\n",
       "      <th>smiles</th>\n",
       "    </tr>\n",
       "  </thead>\n",
       "  <tbody>\n",
       "    <tr>\n",
       "      <th>0</th>\n",
       "      <td>0.0</td>\n",
       "      <td>0.0</td>\n",
       "      <td>1.0</td>\n",
       "      <td>NaN</td>\n",
       "      <td>NaN</td>\n",
       "      <td>0.0</td>\n",
       "      <td>0.0</td>\n",
       "      <td>1.0</td>\n",
       "      <td>0.0</td>\n",
       "      <td>0.0</td>\n",
       "      <td>0.0</td>\n",
       "      <td>0.0</td>\n",
       "      <td>TOX3021</td>\n",
       "      <td>CCOc1ccc2nc(S(N)(=O)=O)sc2c1</td>\n",
       "    </tr>\n",
       "    <tr>\n",
       "      <th>1</th>\n",
       "      <td>0.0</td>\n",
       "      <td>0.0</td>\n",
       "      <td>0.0</td>\n",
       "      <td>0.0</td>\n",
       "      <td>0.0</td>\n",
       "      <td>0.0</td>\n",
       "      <td>0.0</td>\n",
       "      <td>NaN</td>\n",
       "      <td>0.0</td>\n",
       "      <td>NaN</td>\n",
       "      <td>0.0</td>\n",
       "      <td>0.0</td>\n",
       "      <td>TOX3020</td>\n",
       "      <td>CCN1C(=O)NC(c2ccccc2)C1=O</td>\n",
       "    </tr>\n",
       "    <tr>\n",
       "      <th>2</th>\n",
       "      <td>NaN</td>\n",
       "      <td>NaN</td>\n",
       "      <td>NaN</td>\n",
       "      <td>NaN</td>\n",
       "      <td>NaN</td>\n",
       "      <td>NaN</td>\n",
       "      <td>NaN</td>\n",
       "      <td>0.0</td>\n",
       "      <td>NaN</td>\n",
       "      <td>0.0</td>\n",
       "      <td>NaN</td>\n",
       "      <td>NaN</td>\n",
       "      <td>TOX3024</td>\n",
       "      <td>CC[C@]1(O)CC[C@H]2[C@@H]3CCC4=CCCC[C@@H]4[C@H]...</td>\n",
       "    </tr>\n",
       "    <tr>\n",
       "      <th>3</th>\n",
       "      <td>0.0</td>\n",
       "      <td>0.0</td>\n",
       "      <td>0.0</td>\n",
       "      <td>0.0</td>\n",
       "      <td>0.0</td>\n",
       "      <td>0.0</td>\n",
       "      <td>0.0</td>\n",
       "      <td>NaN</td>\n",
       "      <td>0.0</td>\n",
       "      <td>NaN</td>\n",
       "      <td>0.0</td>\n",
       "      <td>0.0</td>\n",
       "      <td>TOX3027</td>\n",
       "      <td>CCCN(CC)C(CC)C(=O)Nc1c(C)cccc1C</td>\n",
       "    </tr>\n",
       "    <tr>\n",
       "      <th>4</th>\n",
       "      <td>0.0</td>\n",
       "      <td>0.0</td>\n",
       "      <td>NaN</td>\n",
       "      <td>0.0</td>\n",
       "      <td>0.0</td>\n",
       "      <td>0.0</td>\n",
       "      <td>0.0</td>\n",
       "      <td>0.0</td>\n",
       "      <td>0.0</td>\n",
       "      <td>0.0</td>\n",
       "      <td>NaN</td>\n",
       "      <td>0.0</td>\n",
       "      <td>TOX3028</td>\n",
       "      <td>CC(O)(P(=O)(O)O)P(=O)(O)O</td>\n",
       "    </tr>\n",
       "    <tr>\n",
       "      <th>...</th>\n",
       "      <td>...</td>\n",
       "      <td>...</td>\n",
       "      <td>...</td>\n",
       "      <td>...</td>\n",
       "      <td>...</td>\n",
       "      <td>...</td>\n",
       "      <td>...</td>\n",
       "      <td>...</td>\n",
       "      <td>...</td>\n",
       "      <td>...</td>\n",
       "      <td>...</td>\n",
       "      <td>...</td>\n",
       "      <td>...</td>\n",
       "      <td>...</td>\n",
       "    </tr>\n",
       "    <tr>\n",
       "      <th>8009</th>\n",
       "      <td>NaN</td>\n",
       "      <td>NaN</td>\n",
       "      <td>NaN</td>\n",
       "      <td>NaN</td>\n",
       "      <td>NaN</td>\n",
       "      <td>NaN</td>\n",
       "      <td>NaN</td>\n",
       "      <td>0.0</td>\n",
       "      <td>NaN</td>\n",
       "      <td>0.0</td>\n",
       "      <td>NaN</td>\n",
       "      <td>NaN</td>\n",
       "      <td>TOX2725</td>\n",
       "      <td>CCOc1nc2cccc(C(=O)O)c2n1Cc1ccc(-c2ccccc2-c2nnn...</td>\n",
       "    </tr>\n",
       "    <tr>\n",
       "      <th>8010</th>\n",
       "      <td>1.0</td>\n",
       "      <td>1.0</td>\n",
       "      <td>0.0</td>\n",
       "      <td>0.0</td>\n",
       "      <td>1.0</td>\n",
       "      <td>0.0</td>\n",
       "      <td>NaN</td>\n",
       "      <td>NaN</td>\n",
       "      <td>0.0</td>\n",
       "      <td>0.0</td>\n",
       "      <td>NaN</td>\n",
       "      <td>0.0</td>\n",
       "      <td>TOX2370</td>\n",
       "      <td>CC(=O)[C@H]1CC[C@H]2[C@@H]3CCC4=CC(=O)CC[C@]4(...</td>\n",
       "    </tr>\n",
       "    <tr>\n",
       "      <th>8011</th>\n",
       "      <td>1.0</td>\n",
       "      <td>1.0</td>\n",
       "      <td>0.0</td>\n",
       "      <td>0.0</td>\n",
       "      <td>1.0</td>\n",
       "      <td>1.0</td>\n",
       "      <td>0.0</td>\n",
       "      <td>1.0</td>\n",
       "      <td>0.0</td>\n",
       "      <td>0.0</td>\n",
       "      <td>0.0</td>\n",
       "      <td>0.0</td>\n",
       "      <td>TOX2371</td>\n",
       "      <td>C[C@]12CC[C@H]3[C@@H](CCC4=CC(=O)CC[C@@]43C)[C...</td>\n",
       "    </tr>\n",
       "    <tr>\n",
       "      <th>8012</th>\n",
       "      <td>1.0</td>\n",
       "      <td>1.0</td>\n",
       "      <td>0.0</td>\n",
       "      <td>NaN</td>\n",
       "      <td>1.0</td>\n",
       "      <td>1.0</td>\n",
       "      <td>0.0</td>\n",
       "      <td>0.0</td>\n",
       "      <td>0.0</td>\n",
       "      <td>0.0</td>\n",
       "      <td>1.0</td>\n",
       "      <td>1.0</td>\n",
       "      <td>TOX2377</td>\n",
       "      <td>C[C@]12CC[C@@H]3c4ccc(O)cc4CC[C@H]3[C@@H]1CC[C...</td>\n",
       "    </tr>\n",
       "    <tr>\n",
       "      <th>8013</th>\n",
       "      <td>0.0</td>\n",
       "      <td>0.0</td>\n",
       "      <td>NaN</td>\n",
       "      <td>0.0</td>\n",
       "      <td>0.0</td>\n",
       "      <td>0.0</td>\n",
       "      <td>0.0</td>\n",
       "      <td>0.0</td>\n",
       "      <td>0.0</td>\n",
       "      <td>0.0</td>\n",
       "      <td>1.0</td>\n",
       "      <td>0.0</td>\n",
       "      <td>TOX2724</td>\n",
       "      <td>COc1ccc2c(c1OC)CN1CCc3cc4c(cc3C1C2)OCO4</td>\n",
       "    </tr>\n",
       "  </tbody>\n",
       "</table>\n",
       "<p>8014 rows × 14 columns</p>\n",
       "</div>"
      ],
      "text/plain": [
       "      NR-AR  NR-AR-LBD  NR-AhR  NR-Aromatase  NR-ER  NR-ER-LBD  NR-PPAR-gamma  \\\n",
       "0       0.0        0.0     1.0           NaN    NaN        0.0            0.0   \n",
       "1       0.0        0.0     0.0           0.0    0.0        0.0            0.0   \n",
       "2       NaN        NaN     NaN           NaN    NaN        NaN            NaN   \n",
       "3       0.0        0.0     0.0           0.0    0.0        0.0            0.0   \n",
       "4       0.0        0.0     NaN           0.0    0.0        0.0            0.0   \n",
       "...     ...        ...     ...           ...    ...        ...            ...   \n",
       "8009    NaN        NaN     NaN           NaN    NaN        NaN            NaN   \n",
       "8010    1.0        1.0     0.0           0.0    1.0        0.0            NaN   \n",
       "8011    1.0        1.0     0.0           0.0    1.0        1.0            0.0   \n",
       "8012    1.0        1.0     0.0           NaN    1.0        1.0            0.0   \n",
       "8013    0.0        0.0     NaN           0.0    0.0        0.0            0.0   \n",
       "\n",
       "      SR-ARE  SR-ATAD5  SR-HSE  SR-MMP  SR-p53   mol_id  \\\n",
       "0        1.0       0.0     0.0     0.0     0.0  TOX3021   \n",
       "1        NaN       0.0     NaN     0.0     0.0  TOX3020   \n",
       "2        0.0       NaN     0.0     NaN     NaN  TOX3024   \n",
       "3        NaN       0.0     NaN     0.0     0.0  TOX3027   \n",
       "4        0.0       0.0     0.0     NaN     0.0  TOX3028   \n",
       "...      ...       ...     ...     ...     ...      ...   \n",
       "8009     0.0       NaN     0.0     NaN     NaN  TOX2725   \n",
       "8010     NaN       0.0     0.0     NaN     0.0  TOX2370   \n",
       "8011     1.0       0.0     0.0     0.0     0.0  TOX2371   \n",
       "8012     0.0       0.0     0.0     1.0     1.0  TOX2377   \n",
       "8013     0.0       0.0     0.0     1.0     0.0  TOX2724   \n",
       "\n",
       "                                                 smiles  \n",
       "0                          CCOc1ccc2nc(S(N)(=O)=O)sc2c1  \n",
       "1                             CCN1C(=O)NC(c2ccccc2)C1=O  \n",
       "2     CC[C@]1(O)CC[C@H]2[C@@H]3CCC4=CCCC[C@@H]4[C@H]...  \n",
       "3                       CCCN(CC)C(CC)C(=O)Nc1c(C)cccc1C  \n",
       "4                             CC(O)(P(=O)(O)O)P(=O)(O)O  \n",
       "...                                                 ...  \n",
       "8009  CCOc1nc2cccc(C(=O)O)c2n1Cc1ccc(-c2ccccc2-c2nnn...  \n",
       "8010  CC(=O)[C@H]1CC[C@H]2[C@@H]3CCC4=CC(=O)CC[C@]4(...  \n",
       "8011  C[C@]12CC[C@H]3[C@@H](CCC4=CC(=O)CC[C@@]43C)[C...  \n",
       "8012  C[C@]12CC[C@@H]3c4ccc(O)cc4CC[C@H]3[C@@H]1CC[C...  \n",
       "8013            COc1ccc2c(c1OC)CN1CCc3cc4c(cc3C1C2)OCO4  \n",
       "\n",
       "[8014 rows x 14 columns]"
      ]
     },
     "execution_count": 8,
     "metadata": {},
     "output_type": "execute_result"
    }
   ],
   "source": [
    "tox21"
   ]
  },
  {
   "cell_type": "code",
   "execution_count": 9,
   "metadata": {},
   "outputs": [
    {
     "data": {
      "text/plain": [
       "0                            CCOc1ccc2nc(S(N)(=O)=O)sc2c1\n",
       "1                               CCN1C(=O)NC(c2ccccc2)C1=O\n",
       "2       CC[C@]1(O)CC[C@H]2[C@@H]3CCC4=CCCC[C@@H]4[C@H]...\n",
       "3                         CCCN(CC)C(CC)C(=O)Nc1c(C)cccc1C\n",
       "4                               CC(O)(P(=O)(O)O)P(=O)(O)O\n",
       "                              ...                        \n",
       "8009    CCOc1nc2cccc(C(=O)O)c2n1Cc1ccc(-c2ccccc2-c2nnn...\n",
       "8010    CC(=O)[C@H]1CC[C@H]2[C@@H]3CCC4=CC(=O)CC[C@]4(...\n",
       "8011    C[C@]12CC[C@H]3[C@@H](CCC4=CC(=O)CC[C@@]43C)[C...\n",
       "8012    C[C@]12CC[C@@H]3c4ccc(O)cc4CC[C@H]3[C@@H]1CC[C...\n",
       "8013              COc1ccc2c(c1OC)CN1CCc3cc4c(cc3C1C2)OCO4\n",
       "Name: smiles, Length: 8014, dtype: object"
      ]
     },
     "execution_count": 9,
     "metadata": {},
     "output_type": "execute_result"
    }
   ],
   "source": [
    "tox21['smiles']"
   ]
  },
  {
   "cell_type": "code",
   "execution_count": 10,
   "metadata": {},
   "outputs": [],
   "source": [
    "train, test = train_test_split(tox21, test_size=.2 )\n",
    "valid, test = train_test_split(test, test_size=.5)"
   ]
  },
  {
   "cell_type": "markdown",
   "metadata": {},
   "source": [
    "### Molecule & Dataset class"
   ]
  },
  {
   "cell_type": "code",
   "execution_count": 11,
   "metadata": {},
   "outputs": [],
   "source": [
    "#from deepchem.feat.graph_features import atom_features\n",
    "from rdkit.Chem import MolFromSmiles\n",
    "import numpy as np\n",
    "import torch"
   ]
  },
  {
   "cell_type": "markdown",
   "metadata": {},
   "source": [
    "#### Featurise data for the neural network"
   ]
  },
  {
   "cell_type": "code",
   "execution_count": 12,
   "metadata": {
    "jupyter": {
     "source_hidden": true
    }
   },
   "outputs": [],
   "source": [
    " def one_of_k_encoding(x, allowable_set):\n",
    "  if x not in allowable_set:\n",
    "    raise Exception(\"input {0} not in allowable set{1}:\".format(\n",
    "        x, allowable_set))\n",
    "  return list(map(lambda s: x == s, allowable_set))\n",
    "\n",
    "\n",
    "def one_of_k_encoding_unk(x, allowable_set):\n",
    "  \"\"\"Maps inputs not in the allowable set to the last element.\"\"\"\n",
    "  if x not in allowable_set:\n",
    "    x = allowable_set[-1]\n",
    "  return list(map(lambda s: x == s, allowable_set))\n",
    "\n",
    "def atom_features(atom,\n",
    "                  bool_id_feat=False,\n",
    "                  explicit_H=False,\n",
    "                  use_chirality=False):\n",
    "  \"\"\"Helper method used to compute per-atom feature vectors.\n",
    "\n",
    "  Many different featurization methods compute per-atom features such as ConvMolFeaturizer, WeaveFeaturizer. This method computes such features.\n",
    "\n",
    "  Parameters\n",
    "  ----------\n",
    "  bool_id_feat: bool, optional\n",
    "    Return an array of unique identifiers corresponding to atom type.\n",
    "  explicit_H: bool, optional\n",
    "    If true, model hydrogens explicitly\n",
    "  use_chirality: bool, optional\n",
    "    If true, use chirality information.\n",
    "  \"\"\"\n",
    "  if bool_id_feat:\n",
    "    return np.array([atom_to_id(atom)])\n",
    "  else:\n",
    "    from rdkit import Chem\n",
    "    results = one_of_k_encoding_unk(\n",
    "      atom.GetSymbol(),\n",
    "      [\n",
    "        'C',\n",
    "        'N',\n",
    "        'O',\n",
    "        'S',\n",
    "        'F',\n",
    "        'Si',\n",
    "        'P',\n",
    "        'Cl',\n",
    "        'Br',\n",
    "        'Mg',\n",
    "        'Na',\n",
    "        'Ca',\n",
    "        'Fe',\n",
    "        'As',\n",
    "        'Al',\n",
    "        'I',\n",
    "        'B',\n",
    "        'V',\n",
    "        'K',\n",
    "        'Tl',\n",
    "        'Yb',\n",
    "        'Sb',\n",
    "        'Sn',\n",
    "        'Ag',\n",
    "        'Pd',\n",
    "        'Co',\n",
    "        'Se',\n",
    "        'Ti',\n",
    "        'Zn',\n",
    "        'H',  # H?\n",
    "        'Li',\n",
    "        'Ge',\n",
    "        'Cu',\n",
    "        'Au',\n",
    "        'Ni',\n",
    "        'Cd',\n",
    "        'In',\n",
    "        'Mn',\n",
    "        'Zr',\n",
    "        'Cr',\n",
    "        'Pt',\n",
    "        'Hg',\n",
    "        'Pb',\n",
    "        'Unknown'\n",
    "      ]) + one_of_k_encoding(atom.GetDegree(),\n",
    "                             [0, 1, 2, 3, 4, 5, 6, 7, 8, 9, 10]) + \\\n",
    "              one_of_k_encoding_unk(atom.GetImplicitValence(), [0, 1, 2, 3, 4, 5, 6]) + \\\n",
    "              [atom.GetFormalCharge(), atom.GetNumRadicalElectrons()] + \\\n",
    "              one_of_k_encoding_unk(atom.GetHybridization(), [\n",
    "                Chem.rdchem.HybridizationType.SP, Chem.rdchem.HybridizationType.SP2,\n",
    "                Chem.rdchem.HybridizationType.SP3, Chem.rdchem.HybridizationType.\n",
    "                                    SP3D, Chem.rdchem.HybridizationType.SP3D2\n",
    "              ]) + [atom.GetIsAromatic()]\n",
    "    # In case of explicit hydrogen(QM8, QM9), avoid calling `GetTotalNumHs`\n",
    "    if not explicit_H:\n",
    "      results = results + one_of_k_encoding_unk(atom.GetTotalNumHs(),\n",
    "                                                [0, 1, 2, 3, 4])\n",
    "    if use_chirality:\n",
    "      try:\n",
    "        results = results + one_of_k_encoding_unk(\n",
    "            atom.GetProp('_CIPCode'),\n",
    "            ['R', 'S']) + [atom.HasProp('_ChiralityPossible')]\n",
    "      except:\n",
    "        results = results + [False, False\n",
    "                            ] + [atom.HasProp('_ChiralityPossible')]\n",
    "\n",
    "    return np.array(results)\n"
   ]
  },
  {
   "cell_type": "code",
   "execution_count": 13,
   "metadata": {},
   "outputs": [],
   "source": [
    "from scipy.sparse import coo_matrix\n",
    "import torch\n",
    "import torch.sparse as sparse\n",
    "from torch.utils.data import Dataset, DataLoader"
   ]
  },
  {
   "cell_type": "code",
   "execution_count": 14,
   "metadata": {},
   "outputs": [],
   "source": [
    "class molecule(object):\n",
    "    def __init__(self, data, smile_col, target_cols, norm=True):\n",
    "        self._mol = self._smile2mol(data[smile_col])\n",
    "        self._targets = self._extract_targets(data,target_cols)\n",
    "        self._target_cols = target_cols\n",
    "        self._mol_props = self._properties_matrix()    \n",
    "        self._norm=norm\n",
    "        if norm:\n",
    "            self._adj_mat = self._normalise_adj()\n",
    "        else:\n",
    "            self._adj_mat = self._adj_mat()\n",
    "    \n",
    "        \n",
    "    def _smile2mol(self, smile):\n",
    "        return MolFromSmiles(smile)\n",
    "    \n",
    "    def _extract_targets(self, data, target_cols):\n",
    "        targets ={}\n",
    "        for t in target_cols:\n",
    "            targets[t] = data[t]\n",
    "        return targets\n",
    "    \n",
    "    def _properties_matrix(self):\n",
    "        mol_props = [None]* self._mol.GetNumAtoms()\n",
    "        for atom in self._mol.GetAtoms():\n",
    "            mol_props[atom.GetIdx()] = atom_features(atom)\n",
    "        return torch.tensor(mol_props, dtype=torch.float32)\n",
    "    \n",
    "    def _bond_index(self):\n",
    "        mol = self._mol\n",
    "        edges = self._self_bonds()\n",
    "        for bond in iter(mol.GetBonds()):\n",
    "            edges.append([bond.GetBeginAtomIdx(), bond.GetEndAtomIdx()])\n",
    "            edges.append([bond.GetEndAtomIdx(), bond.GetBeginAtomIdx()])\n",
    "        bond_index = torch.tensor(edges, dtype=torch.long).t().contiguous()\n",
    "        return edges,bond_index\n",
    "    \n",
    "    def _adj_mat(self):\n",
    "        _,b_i = self._bond_index()\n",
    "        adj = torch.sparse_coo_tensor(b_i, torch.ones(b_i.shape[1]))\n",
    "        return adj\n",
    "\n",
    "    def _normalise_adj(self):\n",
    "        adj_mat = self._adj_mat()\n",
    "        degrees = sparse.sum(adj_mat,dim=1)\n",
    "        d_ii = list(range(len(degrees)))\n",
    "        D = torch.sparse_coo_tensor([d_ii,d_ii],degrees.values())\n",
    "        D_inv_sqrt = D.pow(-0.5)\n",
    "        norm_adj_mat = D_inv_sqrt.mm(adj_mat.to_dense()).mm(D_inv_sqrt.to_dense()) # need to get rid of dense conversions\n",
    "        return norm_adj_mat    \n",
    "    \n",
    "    def _self_bonds(self):\n",
    "        self_edges = [[i,i] for i in range(self._mol.GetNumAtoms())]\n",
    "        return self_edges\n",
    "    \n",
    "    #@property\n",
    "    def get_feats(self):\n",
    "        return self._mol_props\n",
    "    \n",
    "    #@mol_props.setter\n",
    "    def set_feats(self, new_feats:torch.tensor):\n",
    "        self._mol_props = new_feats\n",
    "    \n",
    "    #@property\n",
    "    def get_AM(self):\n",
    "        return self._adj_mat\n",
    "    \n",
    "    #@property    \n",
    "    def get_targets(self):\n",
    "        return self._targets\n",
    "    \n",
    "    def get_model_inputs(self):\n",
    "        return self.get_feats().requires_grad_(), self.get_AM(), self.get_targets(), self._target_cols\n",
    "    def __repr__(self):\n",
    "        return self._mol.__repr__() # improve this\n",
    "    \n",
    "    def __str__(self):\n",
    "        pass\n",
    "    "
   ]
  },
  {
   "cell_type": "code",
   "execution_count": 15,
   "metadata": {},
   "outputs": [],
   "source": [
    "class molset(Dataset):\n",
    "    def __init__(self,\n",
    "                filename,\n",
    "                smile_col,\n",
    "                target_cols,\n",
    "                normalise=False\n",
    "                ):\n",
    "        super(molset).__init__()\n",
    "        self.df =  pd.read_csv(filename).dropna(subset=target_cols).reset_index()\n",
    "        self.mols = self._smile2mol(smile_col, target_cols)\n",
    "        if normalise:\n",
    "            self.x_mu, self.x_std = self.std_mean()\n",
    "            self.normalise_inputs()\n",
    "        \n",
    "    def _smile2mol(self, smile_col, target_cols):\n",
    "        mols = {}\n",
    "        for i, row in self.df.iterrows():\n",
    "                mols[i] = molecule(row, smile_col, target_cols)\n",
    "        \n",
    "        return mols\n",
    "     \n",
    "    def std_mean(self):\n",
    "        x_ =[self.mols[i].get_feats() for i in range(len(self.mols))]\n",
    "        x = torch.cat(x_,0)\n",
    "        x_mu, x_std = torch.std_mean(x,dim=0)\n",
    "        x_std[x_std==0]=1 # as per https://github.com/scikit-learn/scikit-learn/blob/7389dbac82d362f296dc2746f10e43ffa1615660/sklearn/preprocessing/data.py#L70\n",
    "        return  x_mu, x_std\n",
    "        \n",
    "    def normalise_inputs(self):\n",
    "        for i in range(len(self.mols)):\n",
    "            x_norm = self.mols[i].get_feats().data.sub_(self.x_mu[None, :]).div_(self.x_std[None, :])\n",
    "            self.mols[i].set_feats(x_norm)\n",
    "\n",
    "    def __getitem__(self, idx):\n",
    "        return self.mols[idx].get_model_inputs()\n",
    "    \n",
    "    def __len__(self):\n",
    "        return len(self.df)\n",
    "    "
   ]
  },
  {
   "cell_type": "code",
   "execution_count": 16,
   "metadata": {},
   "outputs": [
    {
     "name": "stderr",
     "output_type": "stream",
     "text": [
      "RDKit WARNING: [09:18:27] WARNING: not removing hydrogen atom without neighbors\n"
     ]
    }
   ],
   "source": [
    "tox21_ale = molset(dataset_file, 'smiles',['SR-MMP'], normalise=False)\n",
    "#                  ['NR-AR', 'NR-AR-LBD', 'NR-AhR', 'NR-Aromatase', 'NR-ER', 'NR-ER-LBD',\n",
    "#                   'NR-PPAR-gamma', 'SR-ARE', 'SR-ATAD5', 'SR-HSE', 'SR-MMP'])"
   ]
  },
  {
   "cell_type": "code",
   "execution_count": 17,
   "metadata": {},
   "outputs": [
    {
     "data": {
      "text/plain": [
       "['SR-MMP']"
      ]
     },
     "execution_count": 17,
     "metadata": {},
     "output_type": "execute_result"
    }
   ],
   "source": [
    "tox21_ale[0][3]"
   ]
  },
  {
   "cell_type": "code",
   "execution_count": 45,
   "metadata": {},
   "outputs": [
    {
     "data": {
      "image/png": "[encoded data removed]",
      "text/plain": [
       "<rdkit.Chem.rdchem.Mol at 0x7fd43b685ad0>"
      ]
     },
     "execution_count": 45,
     "metadata": {},
     "output_type": "execute_result"
    }
   ],
   "source": [
    "tox21_ale.mols[0]._mol"
   ]
  },
  {
   "cell_type": "code",
   "execution_count": 25,
   "metadata": {},
   "outputs": [],
   "source": [
    "from rdkit.Chem.Draw import IPythonConsole, MolsToGridImage"
   ]
  },
  {
   "cell_type": "code",
   "execution_count": 41,
   "metadata": {},
   "outputs": [
    {
     "ename": "NameError",
     "evalue": "name 'py3Dmol' is not defined",
     "output_type": "error",
     "traceback": [
      "\u001b[0;31m---------------------------------------------------------------------------\u001b[0m",
      "\u001b[0;31mNameError\u001b[0m                                 Traceback (most recent call last)",
      "\u001b[0;32m<ipython-input-41-60319ac22d6c>\u001b[0m in \u001b[0;36m<module>\u001b[0;34m\u001b[0m\n\u001b[0;32m----> 1\u001b[0;31m \u001b[0mIPythonConsole\u001b[0m\u001b[0;34m.\u001b[0m\u001b[0mdrawMol3D\u001b[0m\u001b[0;34m(\u001b[0m\u001b[0mtox21_ale\u001b[0m\u001b[0;34m.\u001b[0m\u001b[0mmols\u001b[0m\u001b[0;34m[\u001b[0m\u001b[0;36m0\u001b[0m\u001b[0;34m]\u001b[0m\u001b[0;34m)\u001b[0m\u001b[0;34m\u001b[0m\u001b[0;34m\u001b[0m\u001b[0m\n\u001b[0m",
      "\u001b[0;32m~/miniconda3/envs/as_chem/lib/python3.7/site-packages/rdkit/Chem/Draw/IPythonConsole.py\u001b[0m in \u001b[0;36mdrawMol3D\u001b[0;34m(m, view, confId, drawAs, bgColor, size)\u001b[0m\n\u001b[1;32m     73\u001b[0m     \u001b[0msize\u001b[0m \u001b[0;34m=\u001b[0m \u001b[0mmolSize_3d\u001b[0m\u001b[0;34m\u001b[0m\u001b[0;34m\u001b[0m\u001b[0m\n\u001b[1;32m     74\u001b[0m   \u001b[0;32mif\u001b[0m \u001b[0mview\u001b[0m \u001b[0;32mis\u001b[0m \u001b[0;32mNone\u001b[0m\u001b[0;34m:\u001b[0m\u001b[0;34m\u001b[0m\u001b[0;34m\u001b[0m\u001b[0m\n\u001b[0;32m---> 75\u001b[0;31m     \u001b[0mview\u001b[0m \u001b[0;34m=\u001b[0m \u001b[0mpy3Dmol\u001b[0m\u001b[0;34m.\u001b[0m\u001b[0mview\u001b[0m\u001b[0;34m(\u001b[0m\u001b[0mwidth\u001b[0m\u001b[0;34m=\u001b[0m\u001b[0msize\u001b[0m\u001b[0;34m[\u001b[0m\u001b[0;36m0\u001b[0m\u001b[0;34m]\u001b[0m\u001b[0;34m,\u001b[0m \u001b[0mheight\u001b[0m\u001b[0;34m=\u001b[0m\u001b[0msize\u001b[0m\u001b[0;34m[\u001b[0m\u001b[0;36m1\u001b[0m\u001b[0;34m]\u001b[0m\u001b[0;34m)\u001b[0m\u001b[0;34m\u001b[0m\u001b[0;34m\u001b[0m\u001b[0m\n\u001b[0m\u001b[1;32m     76\u001b[0m   \u001b[0mview\u001b[0m\u001b[0;34m.\u001b[0m\u001b[0mremoveAllModels\u001b[0m\u001b[0;34m(\u001b[0m\u001b[0;34m)\u001b[0m\u001b[0;34m\u001b[0m\u001b[0;34m\u001b[0m\u001b[0m\n\u001b[1;32m     77\u001b[0m   \u001b[0;32mtry\u001b[0m\u001b[0;34m:\u001b[0m\u001b[0;34m\u001b[0m\u001b[0;34m\u001b[0m\u001b[0m\n",
      "\u001b[0;31mNameError\u001b[0m: name 'py3Dmol' is not defined"
     ]
    }
   ],
   "source": [
    "IPythonConsole.drawMol3D(tox21_ale.mols[0])"
   ]
  },
  {
   "cell_type": "code",
   "execution_count": 46,
   "metadata": {},
   "outputs": [],
   "source": [
    "sample_mols = [tox21_ale.mols[i]._mol for i in range(10)]"
   ]
  },
  {
   "cell_type": "code",
   "execution_count": 47,
   "metadata": {},
   "outputs": [
    {
     "data": {
      "image/png": "[encoded data removed]",
      "text/plain": [
       "<PIL.PngImagePlugin.PngImageFile image mode=RGB size=600x800 at 0x7FD427C536D0>"
      ]
     },
     "execution_count": 47,
     "metadata": {},
     "output_type": "execute_result"
    }
   ],
   "source": [
    "MolsToGridImage(sample_mols,)"
   ]
  },
  {
   "cell_type": "code",
   "execution_count": 18,
   "metadata": {},
   "outputs": [
    {
     "data": {
      "text/plain": [
       "(tensor([[1., 0., 0.,  ..., 0., 1., 0.],\n",
       "         [1., 0., 0.,  ..., 1., 0., 0.],\n",
       "         [0., 0., 1.,  ..., 0., 0., 0.],\n",
       "         ...,\n",
       "         [0., 0., 0.,  ..., 0., 0., 0.],\n",
       "         [1., 0., 0.,  ..., 0., 0., 0.],\n",
       "         [1., 0., 0.,  ..., 0., 0., 0.]], requires_grad=True),\n",
       " tensor([[0.5000, 0.4082, 0.0000, 0.0000, 0.0000, 0.0000, 0.0000, 0.0000, 0.0000,\n",
       "          0.0000, 0.0000, 0.0000, 0.0000, 0.0000, 0.0000, 0.0000],\n",
       "         [0.4082, 0.3333, 0.3333, 0.0000, 0.0000, 0.0000, 0.0000, 0.0000, 0.0000,\n",
       "          0.0000, 0.0000, 0.0000, 0.0000, 0.0000, 0.0000, 0.0000],\n",
       "         [0.0000, 0.3333, 0.3333, 0.2887, 0.0000, 0.0000, 0.0000, 0.0000, 0.0000,\n",
       "          0.0000, 0.0000, 0.0000, 0.0000, 0.0000, 0.0000, 0.0000],\n",
       "         [0.0000, 0.0000, 0.2887, 0.2500, 0.2887, 0.0000, 0.0000, 0.0000, 0.0000,\n",
       "          0.0000, 0.0000, 0.0000, 0.0000, 0.0000, 0.0000, 0.2887],\n",
       "         [0.0000, 0.0000, 0.0000, 0.2887, 0.3333, 0.3333, 0.0000, 0.0000, 0.0000,\n",
       "          0.0000, 0.0000, 0.0000, 0.0000, 0.0000, 0.0000, 0.0000],\n",
       "         [0.0000, 0.0000, 0.0000, 0.0000, 0.3333, 0.3333, 0.2887, 0.0000, 0.0000,\n",
       "          0.0000, 0.0000, 0.0000, 0.0000, 0.0000, 0.0000, 0.0000],\n",
       "         [0.0000, 0.0000, 0.0000, 0.0000, 0.0000, 0.2887, 0.2500, 0.2887, 0.0000,\n",
       "          0.0000, 0.0000, 0.0000, 0.0000, 0.0000, 0.2500, 0.0000],\n",
       "         [0.0000, 0.0000, 0.0000, 0.0000, 0.0000, 0.0000, 0.2887, 0.3333, 0.2887,\n",
       "          0.0000, 0.0000, 0.0000, 0.0000, 0.0000, 0.0000, 0.0000],\n",
       "         [0.0000, 0.0000, 0.0000, 0.0000, 0.0000, 0.0000, 0.0000, 0.2887, 0.2500,\n",
       "          0.2236, 0.0000, 0.0000, 0.0000, 0.2887, 0.0000, 0.0000],\n",
       "         [0.0000, 0.0000, 0.0000, 0.0000, 0.0000, 0.0000, 0.0000, 0.0000, 0.2236,\n",
       "          0.2000, 0.3162, 0.3162, 0.3162, 0.0000, 0.0000, 0.0000],\n",
       "         [0.0000, 0.0000, 0.0000, 0.0000, 0.0000, 0.0000, 0.0000, 0.0000, 0.0000,\n",
       "          0.3162, 0.5000, 0.0000, 0.0000, 0.0000, 0.0000, 0.0000],\n",
       "         [0.0000, 0.0000, 0.0000, 0.0000, 0.0000, 0.0000, 0.0000, 0.0000, 0.0000,\n",
       "          0.3162, 0.0000, 0.5000, 0.0000, 0.0000, 0.0000, 0.0000],\n",
       "         [0.0000, 0.0000, 0.0000, 0.0000, 0.0000, 0.0000, 0.0000, 0.0000, 0.0000,\n",
       "          0.3162, 0.0000, 0.0000, 0.5000, 0.0000, 0.0000, 0.0000],\n",
       "         [0.0000, 0.0000, 0.0000, 0.0000, 0.0000, 0.0000, 0.0000, 0.0000, 0.2887,\n",
       "          0.0000, 0.0000, 0.0000, 0.0000, 0.3333, 0.2887, 0.0000],\n",
       "         [0.0000, 0.0000, 0.0000, 0.0000, 0.0000, 0.0000, 0.2500, 0.0000, 0.0000,\n",
       "          0.0000, 0.0000, 0.0000, 0.0000, 0.2887, 0.2500, 0.2887],\n",
       "         [0.0000, 0.0000, 0.0000, 0.2887, 0.0000, 0.0000, 0.0000, 0.0000, 0.0000,\n",
       "          0.0000, 0.0000, 0.0000, 0.0000, 0.0000, 0.2887, 0.3333]]),\n",
       " {'SR-MMP': 0.0},\n",
       " ['SR-MMP'])"
      ]
     },
     "execution_count": 18,
     "metadata": {},
     "output_type": "execute_result"
    }
   ],
   "source": [
    "tox21_ale[0]"
   ]
  },
  {
   "cell_type": "markdown",
   "metadata": {},
   "source": [
    "### Build net"
   ]
  },
  {
   "cell_type": "markdown",
   "metadata": {},
   "source": [
    "#### From raw python + pytorch"
   ]
  },
  {
   "cell_type": "code",
   "execution_count": 23,
   "metadata": {},
   "outputs": [],
   "source": [
    "import torch.nn as nn\n",
    "from typing import List\n",
    "from functools import partial"
   ]
  },
  {
   "cell_type": "code",
   "execution_count": 24,
   "metadata": {},
   "outputs": [],
   "source": [
    "class gcn_layer(nn.Module):\n",
    "    def __init__(self, in_d:int, out_d:int):\n",
    "        super(gcn_layer, self).__init__()\n",
    "        self.in_d = in_d\n",
    "        self.out_d = out_d\n",
    "        self.linear = nn.Linear(in_d,out_d)\n",
    "\n",
    "    def forward(self, features, bonds):\n",
    "        h = self.linear(features)\n",
    "        h = torch.matmul(bonds,h)\n",
    "\n",
    "        return h\n",
    "\n",
    "\"\"\"class masked_linear(nn.Module):\n",
    "    def __init__(self, in_d:int, out_d:int):\n",
    "        super(masked_linear, self).__init__()\n",
    "        self.in_d = in_d\n",
    "        self.out_d = out_d\n",
    "        self.weight = nn.Linear(in_d,out_d)\n",
    "        \n",
    "        def forward(self, h, mask):\n",
    "        h = torch.matmul(mask,h)\n",
    "        h = self.weight(h)\n",
    "        return\" h\n",
    "\"\"\"\n",
    "\n",
    "class AS_GCN(nn.Module):\n",
    "    def __init__(self, input_features:int, hidden_channels:List[int], activation: str, dropout: float, out_classes:int):\n",
    "        super(AS_GCN, self).__init__()\n",
    "        self.convolutions = nn.ModuleList()\n",
    "        in_d, out_d = input_features, None\n",
    "        for d in hidden_channels:\n",
    "            out_d = d \n",
    "            conv_layer = gcn_layer(in_d, out_d)\n",
    "            self.convolutions.append(conv_layer)\n",
    "            in_d = out_d\n",
    "        \n",
    "        activations = {\n",
    "            'relu': nn.ReLU,\n",
    "            'leaky_relu': nn.LeakyReLU,\n",
    "            'sigmoid': nn.Sigmoid\n",
    "        }\n",
    "        assert activation in activations, f'Activation not supported. Choose from {[a for a in activations.keys()]}'\n",
    "        self.nonlinearity = activations[activation]()\n",
    "        self.nonlinearity_name = activation\n",
    "        self.dropout = nn.Dropout(dropout)\n",
    "        self.final_conv = gcn_layer(out_d, out_classes)\n",
    "        self.sigmoid = nn.Sigmoid()\n",
    "\n",
    "    def forward(self, X, A, graph_sizes):\n",
    "\n",
    "        #bonds = A\n",
    "        #h = None\n",
    "        for conv in self.convolutions:\n",
    "            h = conv(X, A)\n",
    "            h = self.nonlinearity(h)\n",
    "            X = self.dropout(h)\n",
    "        \n",
    "        out =  self.final_conv(X,A)\n",
    "        out = self.sigmoid(out)\n",
    "        out = torch.stack([g.mean() for g in out.split(graph_sizes)])\n",
    "        out.retain_grad()\n",
    "        return (out)\n",
    "    \n",
    "    def init_weights(self):\n",
    "        for n,p in self.named_parameters():\n",
    "            if n.endswith('weight'):\n",
    "                if self.nonlinearity_name in ['relu', 'leaky_relu']:\n",
    "#                     nn.init.kaiming_uniform_(p.data,nonlinearity=self.nonlinearity_name)\n",
    "                    nn.init.xavier_uniform_(p.data)\n",
    "\n",
    "                else:\n",
    "                    nn.init.xavier_uniform_(p.data)\n",
    "                    "
   ]
  },
  {
   "cell_type": "markdown",
   "metadata": {},
   "source": [
    "### Build training loop"
   ]
  },
  {
   "cell_type": "markdown",
   "metadata": {},
   "source": [
    "### batching"
   ]
  },
  {
   "cell_type": "markdown",
   "metadata": {},
   "source": [
    "#### custom collate function "
   ]
  },
  {
   "cell_type": "code",
   "execution_count": 25,
   "metadata": {},
   "outputs": [],
   "source": [
    "from torch import block_diag"
   ]
  },
  {
   "cell_type": "code",
   "execution_count": 17,
   "metadata": {},
   "outputs": [],
   "source": [
    "class graph_inputs(object):\n",
    "    def __init__(self,input_list):\n",
    "        self.X = input_list[0]\n",
    "        self.A = input_list[1]\n",
    "        self.y = input_list[2]\n",
    "        #self.target = [input_list[3]]\n",
    "\n",
    "class batch_graph():\n",
    "    def __init__(self, inputs):\n",
    "        Xs = [b.X for b in inputs]\n",
    "        As = [b.A for b in inputs]\n",
    "        Ys = [b.y for b in inputs]\n",
    "        \n",
    "        self.A = torch.block_diag(*As).cuda()\n",
    "        self.X = torch.cat(Xs).cuda()\n",
    "        self.Y = Ys\n",
    "        self.graph_sizes = [len(x) for x in Xs]\n",
    "        #self.target = [input_list[3]]\n",
    "\n",
    "def graph_collate(batch):\n",
    "    inputs = batch_graph([graph_inputs(sample) for sample in batch])\n",
    "    return inputs"
   ]
  },
  {
   "cell_type": "markdown",
   "metadata": {},
   "source": [
    "### Train/Test split"
   ]
  },
  {
   "cell_type": "code",
   "execution_count": 18,
   "metadata": {},
   "outputs": [],
   "source": [
    "def split(dataset, splits_p):\n",
    "    splits = len(dataset)*np.array(splits_p)\n",
    "    splits = [int(p) for p in list(splits)]\n",
    "    return splits"
   ]
  },
  {
   "cell_type": "code",
   "execution_count": 19,
   "metadata": {},
   "outputs": [
    {
     "data": {
      "text/plain": [
       "[5328, 592]"
      ]
     },
     "execution_count": 19,
     "metadata": {},
     "output_type": "execute_result"
    }
   ],
   "source": [
    "[int(p) for p in list(float(len(tox21_ale))*np.array([.9,.1]))]"
   ]
  },
  {
   "cell_type": "code",
   "execution_count": 20,
   "metadata": {},
   "outputs": [
    {
     "data": {
      "text/plain": [
       "0"
      ]
     },
     "execution_count": 20,
     "metadata": {},
     "output_type": "execute_result"
    }
   ],
   "source": [
    "len(tox21_ale) - (4736+1184)"
   ]
  },
  {
   "cell_type": "code",
   "execution_count": 21,
   "metadata": {},
   "outputs": [],
   "source": [
    "train, test = torch.utils.data.random_split(tox21_ale, split(tox21_ale, [.8, .2]),generator=torch.Generator().manual_seed(42))"
   ]
  },
  {
   "cell_type": "code",
   "execution_count": 22,
   "metadata": {},
   "outputs": [],
   "source": [
    "train_loader = DataLoader(train, batch_size=100, collate_fn=graph_collate)"
   ]
  },
  {
   "cell_type": "markdown",
   "metadata": {},
   "source": [
    "### Training loop"
   ]
  },
  {
   "cell_type": "code",
   "execution_count": 23,
   "metadata": {},
   "outputs": [],
   "source": [
    "from torch.optim import Adam"
   ]
  },
  {
   "cell_type": "code",
   "execution_count": 24,
   "metadata": {},
   "outputs": [],
   "source": [
    "torch.cuda.set_device(0)"
   ]
  },
  {
   "cell_type": "code",
   "execution_count": 25,
   "metadata": {},
   "outputs": [],
   "source": [
    "model = AS_GCN(75,[300,300,300],'relu',0.,1)"
   ]
  },
  {
   "cell_type": "code",
   "execution_count": 26,
   "metadata": {},
   "outputs": [
    {
     "name": "stdout",
     "output_type": "stream",
     "text": [
      "convolutions.0.linear.weight\n",
      "convolutions.0.linear.bias\n",
      "convolutions.1.linear.weight\n",
      "convolutions.1.linear.bias\n",
      "convolutions.2.linear.weight\n",
      "convolutions.2.linear.bias\n",
      "fc.linear.weight\n",
      "fc.linear.bias\n"
     ]
    }
   ],
   "source": [
    "for name, param in model.named_parameters():\n",
    "    if param.requires_grad:\n",
    "        print(name)"
   ]
  },
  {
   "cell_type": "code",
   "execution_count": 27,
   "metadata": {},
   "outputs": [
    {
     "data": {
      "text/plain": [
       "AS_GCN(\n",
       "  (convolutions): ModuleList(\n",
       "    (0): gcn_layer(\n",
       "      (linear): Linear(in_features=75, out_features=300, bias=True)\n",
       "    )\n",
       "    (1): gcn_layer(\n",
       "      (linear): Linear(in_features=300, out_features=300, bias=True)\n",
       "    )\n",
       "    (2): gcn_layer(\n",
       "      (linear): Linear(in_features=300, out_features=300, bias=True)\n",
       "    )\n",
       "  )\n",
       "  (nonlinearity): ReLU()\n",
       "  (dropout): Dropout(p=0.0, inplace=False)\n",
       "  (fc): gcn_layer(\n",
       "    (linear): Linear(in_features=300, out_features=1, bias=True)\n",
       "  )\n",
       "  (sigmoid): Sigmoid()\n",
       ")"
      ]
     },
     "execution_count": 27,
     "metadata": {},
     "output_type": "execute_result"
    }
   ],
   "source": [
    "model.cuda()"
   ]
  },
  {
   "cell_type": "code",
   "execution_count": 28,
   "metadata": {},
   "outputs": [],
   "source": [
    "optim = Adam(model.parameters(),lr=0.002)\n",
    "bce = nn.BCELoss().cuda()\n",
    "#bce.cuda()"
   ]
  },
  {
   "cell_type": "markdown",
   "metadata": {},
   "source": [
    "target = 'NR-AR'\n",
    "batch_eg = next(iter(as_loader))    \n",
    "optim.zero_grad()\n",
    "batch_out = model.forward(batch_eg.X, batch_eg.A)\n",
    "graph_out =batch_out.split(batch_eg.graph_sizes)\n",
    "predictions = torch.tensor([torch.mean(g) for g in graph_out],  device='cuda',requires_grad=True)\n",
    "y = torch.tensor([y[target] for y in batch_eg.Y], device='cuda')\n",
    "loss = bce(predictions,y).cuda()\n",
    "loss.backward()\n"
   ]
  },
  {
   "cell_type": "markdown",
   "metadata": {},
   "source": [
    "graph_out =batch_out.split(batch_eg.graph_sizes)\n",
    "predictions = torch.tensor([torch.mean(g) for g in graph_out],  device='cuda',requires_grad=True)\n",
    "y = torch.tensor([y[target] for y in batch_eg.Y], device='cuda')\n",
    "loss = bce(predictions,y).cuda()\n",
    "loss.backward()\n"
   ]
  },
  {
   "cell_type": "code",
   "execution_count": 29,
   "metadata": {},
   "outputs": [],
   "source": [
    "from torch.utils.tensorboard import SummaryWriter"
   ]
  },
  {
   "cell_type": "code",
   "execution_count": 53,
   "metadata": {},
   "outputs": [
    {
     "name": "stdout",
     "output_type": "stream",
     "text": [
      "Epoch 0/100, Loss: 0.11437339335680008, Accuracy: 0.9599999785423279\n",
      "Epoch 1/100, Loss: 0.12953640520572662, Accuracy: 0.949999988079071\n",
      "Epoch 2/100, Loss: 0.11907684057950974, Accuracy: 0.9599999785423279\n",
      "Epoch 3/100, Loss: 0.13538144528865814, Accuracy: 0.9399999976158142\n",
      "Epoch 4/100, Loss: 0.12614187598228455, Accuracy: 0.949999988079071\n",
      "Epoch 5/100, Loss: 0.12632666528224945, Accuracy: 0.949999988079071\n",
      "Epoch 6/100, Loss: 0.12371528148651123, Accuracy: 0.949999988079071\n",
      "Epoch 7/100, Loss: 0.11600169539451599, Accuracy: 0.949999988079071\n",
      "Epoch 8/100, Loss: 0.12190364301204681, Accuracy: 0.949999988079071\n",
      "Epoch 9/100, Loss: 0.12406125664710999, Accuracy: 0.949999988079071\n",
      "Epoch 10/100, Loss: 0.11846152693033218, Accuracy: 0.949999988079071\n",
      "Epoch 11/100, Loss: 0.14810030162334442, Accuracy: 0.949999988079071\n",
      "Epoch 12/100, Loss: 0.12472091615200043, Accuracy: 0.949999988079071\n",
      "Epoch 13/100, Loss: 0.12452718615531921, Accuracy: 0.949999988079071\n",
      "Epoch 14/100, Loss: 0.12577931582927704, Accuracy: 0.9599999785423279\n",
      "Epoch 15/100, Loss: 0.11932159215211868, Accuracy: 0.9599999785423279\n",
      "Epoch 16/100, Loss: 0.11899074167013168, Accuracy: 0.9599999785423279\n",
      "Epoch 17/100, Loss: 0.12522615492343903, Accuracy: 0.949999988079071\n",
      "Epoch 18/100, Loss: 0.12987826764583588, Accuracy: 0.9599999785423279\n",
      "Epoch 19/100, Loss: 0.11915099620819092, Accuracy: 0.949999988079071\n",
      "Epoch 20/100, Loss: 0.11559933423995972, Accuracy: 0.949999988079071\n",
      "Epoch 21/100, Loss: 0.11333400756120682, Accuracy: 0.9799999594688416\n",
      "Epoch 22/100, Loss: 0.11432210355997086, Accuracy: 0.9599999785423279\n",
      "Epoch 23/100, Loss: 0.12621161341667175, Accuracy: 0.949999988079071\n",
      "Epoch 24/100, Loss: 0.1174284815788269, Accuracy: 0.9699999690055847\n",
      "Epoch 25/100, Loss: 0.11651676148176193, Accuracy: 0.949999988079071\n",
      "Epoch 26/100, Loss: 0.11666553467512131, Accuracy: 0.9599999785423279\n",
      "Epoch 27/100, Loss: 0.12154695391654968, Accuracy: 0.9599999785423279\n",
      "Epoch 28/100, Loss: 0.13306249678134918, Accuracy: 0.9599999785423279\n",
      "Epoch 29/100, Loss: 0.12216801196336746, Accuracy: 0.949999988079071\n",
      "Epoch 30/100, Loss: 0.11950289458036423, Accuracy: 0.949999988079071\n",
      "Epoch 31/100, Loss: 0.1404789835214615, Accuracy: 0.9399999976158142\n",
      "Epoch 32/100, Loss: 0.1247909888625145, Accuracy: 0.949999988079071\n",
      "Epoch 33/100, Loss: 0.12219912558794022, Accuracy: 0.9599999785423279\n",
      "Epoch 34/100, Loss: 0.12499900907278061, Accuracy: 0.949999988079071\n",
      "Epoch 35/100, Loss: 0.13373221457004547, Accuracy: 0.949999988079071\n",
      "Epoch 36/100, Loss: 0.11153828352689743, Accuracy: 0.9599999785423279\n",
      "Epoch 37/100, Loss: 0.11419713497161865, Accuracy: 0.9699999690055847\n",
      "Epoch 38/100, Loss: 0.12001113593578339, Accuracy: 0.949999988079071\n",
      "Epoch 39/100, Loss: 0.11776880919933319, Accuracy: 0.949999988079071\n",
      "Epoch 40/100, Loss: 0.11760564893484116, Accuracy: 0.949999988079071\n",
      "Epoch 41/100, Loss: 0.11304637789726257, Accuracy: 0.9699999690055847\n",
      "Epoch 42/100, Loss: 0.11527261137962341, Accuracy: 0.9599999785423279\n",
      "Epoch 43/100, Loss: 0.11353994160890579, Accuracy: 0.949999988079071\n",
      "Epoch 44/100, Loss: 0.1309095174074173, Accuracy: 0.9399999976158142\n",
      "Epoch 45/100, Loss: 0.1164349690079689, Accuracy: 0.9599999785423279\n",
      "Epoch 46/100, Loss: 0.12178894132375717, Accuracy: 0.9599999785423279\n",
      "Epoch 47/100, Loss: 0.11897960305213928, Accuracy: 0.949999988079071\n",
      "Epoch 48/100, Loss: 0.11157581210136414, Accuracy: 0.9599999785423279\n",
      "Epoch 49/100, Loss: 0.11569559574127197, Accuracy: 0.949999988079071\n",
      "Epoch 50/100, Loss: 0.11829961836338043, Accuracy: 0.949999988079071\n",
      "Epoch 51/100, Loss: 0.1130172535777092, Accuracy: 0.949999988079071\n",
      "Epoch 52/100, Loss: 0.11904720216989517, Accuracy: 0.9399999976158142\n",
      "Epoch 53/100, Loss: 0.12624655663967133, Accuracy: 0.949999988079071\n",
      "Epoch 54/100, Loss: 0.1096193790435791, Accuracy: 0.9699999690055847\n",
      "Epoch 55/100, Loss: 0.10702338814735413, Accuracy: 0.949999988079071\n",
      "Epoch 56/100, Loss: 0.1137806847691536, Accuracy: 0.9599999785423279\n",
      "Epoch 57/100, Loss: 0.11153817921876907, Accuracy: 0.9599999785423279\n",
      "Epoch 58/100, Loss: 0.10953628271818161, Accuracy: 0.9699999690055847\n",
      "Epoch 59/100, Loss: 0.11060504615306854, Accuracy: 0.9599999785423279\n",
      "Epoch 60/100, Loss: 0.11920987814664841, Accuracy: 0.9599999785423279\n",
      "Epoch 61/100, Loss: 0.1558920443058014, Accuracy: 0.949999988079071\n",
      "Epoch 62/100, Loss: 0.1381799727678299, Accuracy: 0.9399999976158142\n",
      "Epoch 63/100, Loss: 0.15429647266864777, Accuracy: 0.949999988079071\n",
      "Epoch 64/100, Loss: 0.13064724206924438, Accuracy: 0.9599999785423279\n",
      "Epoch 65/100, Loss: 0.12642958760261536, Accuracy: 0.9399999976158142\n",
      "Epoch 66/100, Loss: 0.11811642348766327, Accuracy: 0.9699999690055847\n",
      "Epoch 67/100, Loss: 0.1111542284488678, Accuracy: 0.9599999785423279\n",
      "Epoch 68/100, Loss: 0.12758292257785797, Accuracy: 0.9699999690055847\n",
      "Epoch 69/100, Loss: 0.1126263439655304, Accuracy: 0.949999988079071\n",
      "Epoch 70/100, Loss: 0.11595845222473145, Accuracy: 0.949999988079071\n",
      "Epoch 71/100, Loss: 0.11623203009366989, Accuracy: 0.949999988079071\n",
      "Epoch 72/100, Loss: 0.12125211209058762, Accuracy: 0.9799999594688416\n",
      "Epoch 73/100, Loss: 0.1216101124882698, Accuracy: 0.9599999785423279\n",
      "Epoch 74/100, Loss: 0.10673989355564117, Accuracy: 0.9699999690055847\n",
      "Epoch 75/100, Loss: 0.11078538745641708, Accuracy: 0.9599999785423279\n",
      "Epoch 76/100, Loss: 0.1181480661034584, Accuracy: 0.9699999690055847\n",
      "Epoch 77/100, Loss: 0.10902940481901169, Accuracy: 0.9699999690055847\n",
      "Epoch 78/100, Loss: 0.11403854936361313, Accuracy: 0.9399999976158142\n",
      "Epoch 79/100, Loss: 0.10657426714897156, Accuracy: 0.9799999594688416\n",
      "Epoch 80/100, Loss: 0.1253660023212433, Accuracy: 0.949999988079071\n",
      "Epoch 81/100, Loss: 0.11135517060756683, Accuracy: 0.9599999785423279\n",
      "Epoch 82/100, Loss: 0.10333442687988281, Accuracy: 0.9799999594688416\n",
      "Epoch 83/100, Loss: 0.1255405843257904, Accuracy: 0.9399999976158142\n",
      "Epoch 84/100, Loss: 0.12184875458478928, Accuracy: 0.949999988079071\n",
      "Epoch 85/100, Loss: 0.11908496916294098, Accuracy: 0.9399999976158142\n",
      "Epoch 86/100, Loss: 0.11571233719587326, Accuracy: 0.949999988079071\n",
      "Epoch 87/100, Loss: 0.11062930524349213, Accuracy: 0.9599999785423279\n",
      "Epoch 88/100, Loss: 0.11384634673595428, Accuracy: 0.9599999785423279\n",
      "Epoch 89/100, Loss: 0.10595651715993881, Accuracy: 0.9799999594688416\n",
      "Epoch 90/100, Loss: 0.11706224828958511, Accuracy: 0.949999988079071\n",
      "Epoch 91/100, Loss: 0.10642555356025696, Accuracy: 0.9699999690055847\n",
      "Epoch 92/100, Loss: 0.11126266419887543, Accuracy: 0.9599999785423279\n",
      "Epoch 93/100, Loss: 0.10779599845409393, Accuracy: 0.9699999690055847\n",
      "Epoch 94/100, Loss: 0.10646313428878784, Accuracy: 0.9699999690055847\n",
      "Epoch 95/100, Loss: 0.10502829402685165, Accuracy: 0.9799999594688416\n",
      "Epoch 96/100, Loss: 0.10640941560268402, Accuracy: 0.949999988079071\n",
      "Epoch 97/100, Loss: 0.10470809042453766, Accuracy: 0.9699999690055847\n",
      "Epoch 98/100, Loss: 0.10848734527826309, Accuracy: 0.9699999690055847\n",
      "Epoch 99/100, Loss: 0.10774854570627213, Accuracy: 0.949999988079071\n"
     ]
    }
   ],
   "source": [
    "predictions = None\n",
    "target = 'SR-MMP'\n",
    "writer = SummaryWriter()\n",
    "model.train()\n",
    "model.init_weights()\n",
    "epochs = 100\n",
    "for e in range(epochs):\n",
    "    for b_i,batch in enumerate(train_loader):\n",
    "        optim.zero_grad()\n",
    "        predictions = model.forward(batch.X, batch.A, batch.graph_sizes)\n",
    "        y = torch.tensor([y[target] for y in batch.Y], device='cuda')\n",
    "        loss = bce(predictions,y)#.cuda()\n",
    "        loss.backward()\n",
    "        optim.step()\n",
    "        if (b_i%50==0):\n",
    "            batch_num =  e*(len(train_loader.dataset) + b_i)\n",
    "            writer.add_scalar('BCE loss: Train', loss.item(), batch_num)\n",
    "            binary_predictions = (predictions>0.5).float()\n",
    "            correct = (binary_predictions == y.float()).float().sum()\n",
    "            print(f\"Epoch {e}/{epochs}, Loss: {loss.item()}, Accuracy: {correct/len(y)}\")\n",
    "            for n,p in model.named_parameters():\n",
    "                if 'bias' not in n:\n",
    "                    writer.add_scalar(f'{n}:mean', p.mean().item(),batch_num)\n",
    "                    writer.add_scalar(f'{n}:std', p.std().item(),batch_num)\n",
    "writer.close()    "
   ]
  },
  {
   "cell_type": "markdown",
   "metadata": {},
   "source": [
    "### Evaluation"
   ]
  },
  {
   "cell_type": "code",
   "execution_count": 31,
   "metadata": {},
   "outputs": [],
   "source": [
    "from sklearn.metrics import average_precision_score, roc_auc_score"
   ]
  },
  {
   "cell_type": "code",
   "execution_count": 54,
   "metadata": {},
   "outputs": [],
   "source": [
    "model.eval()\n",
    "test_loader = DataLoader(test, batch_size=100, collate_fn=graph_collate)"
   ]
  },
  {
   "cell_type": "code",
   "execution_count": 55,
   "metadata": {},
   "outputs": [
    {
     "name": "stdout",
     "output_type": "stream",
     "text": [
      "Model performance:\n",
      "Average precision score: 0.5799012207408677\n",
      "ROC AUC score: 0.8519013880855986\n"
     ]
    }
   ],
   "source": [
    "cat_predictions, cat_y = [], []\n",
    "for b_i,batch in enumerate(test_loader):\n",
    "        predictions = model.forward(batch.X, batch.A, batch.graph_sizes)\n",
    "        y = torch.tensor([y[target] for y in batch.Y], device='cuda')\n",
    "        cat_predictions.append(predictions)\n",
    "        cat_y.append(y)\n",
    "        \n",
    "test_predictions = torch.cat(cat_predictions)\n",
    "test_y =  torch.cat(cat_y)\n",
    "aps = average_precision_score(test_y.cpu().numpy(), test_predictions.detach().cpu().numpy())\n",
    "roc_auc = roc_auc_score(test_y.cpu().numpy(), test_predictions.detach().cpu().numpy())\n",
    "print(\n",
    "    f'Model performance:',\n",
    "    f'Average precision score: {aps}',\n",
    "    f'ROC AUC score: {roc_auc}', \n",
    "    sep='\\n')"
   ]
  }
 ],
 "metadata": {
  "kernelspec": {
   "display_name": "Python [conda env:as_chem]",
   "language": "python",
   "name": "conda-env-as_chem-py"
  },
  "language_info": {
   "codemirror_mode": {
    "name": "ipython",
    "version": 3
   },
   "file_extension": ".py",
   "mimetype": "text/x-python",
   "name": "python",
   "nbconvert_exporter": "python",
   "pygments_lexer": "ipython3",
   "version": "3.7.8"
  }
 },
 "nbformat": 4,
 "nbformat_minor": 4
}
