{
 "cells": [
  {
   "cell_type": "code",
   "execution_count": 1,
   "metadata": {
    "scrolled": true
   },
   "outputs": [
    {
     "name": "stderr",
     "output_type": "stream",
     "text": [
      "/home/alessandro/miniconda3/envs/deepchem/lib/python3.7/site-packages/sklearn/externals/joblib/__init__.py:15: FutureWarning: sklearn.externals.joblib is deprecated in 0.21 and will be removed in 0.23. Please import this functionality directly from joblib, which can be installed with: pip install joblib. If this warning is raised when loading pickled models, you may need to re-serialize those models with scikit-learn 0.21+.\n",
      "  warnings.warn(msg, category=FutureWarning)\n",
      "RDKit WARNING: [17:12:40] Enabling RDKit 2019.09.3 jupyter extensions\n",
      "/home/alessandro/miniconda3/envs/deepchem/lib/python3.7/site-packages/tensorflow/python/framework/dtypes.py:516: FutureWarning: Passing (type, 1) or '1type' as a synonym of type is deprecated; in a future version of numpy, it will be understood as (type, (1,)) / '(1,)type'.\n",
      "  _np_qint8 = np.dtype([(\"qint8\", np.int8, 1)])\n",
      "/home/alessandro/miniconda3/envs/deepchem/lib/python3.7/site-packages/tensorflow/python/framework/dtypes.py:517: FutureWarning: Passing (type, 1) or '1type' as a synonym of type is deprecated; in a future version of numpy, it will be understood as (type, (1,)) / '(1,)type'.\n",
      "  _np_quint8 = np.dtype([(\"quint8\", np.uint8, 1)])\n",
      "/home/alessandro/miniconda3/envs/deepchem/lib/python3.7/site-packages/tensorflow/python/framework/dtypes.py:518: FutureWarning: Passing (type, 1) or '1type' as a synonym of type is deprecated; in a future version of numpy, it will be understood as (type, (1,)) / '(1,)type'.\n",
      "  _np_qint16 = np.dtype([(\"qint16\", np.int16, 1)])\n",
      "/home/alessandro/miniconda3/envs/deepchem/lib/python3.7/site-packages/tensorflow/python/framework/dtypes.py:519: FutureWarning: Passing (type, 1) or '1type' as a synonym of type is deprecated; in a future version of numpy, it will be understood as (type, (1,)) / '(1,)type'.\n",
      "  _np_quint16 = np.dtype([(\"quint16\", np.uint16, 1)])\n",
      "/home/alessandro/miniconda3/envs/deepchem/lib/python3.7/site-packages/tensorflow/python/framework/dtypes.py:520: FutureWarning: Passing (type, 1) or '1type' as a synonym of type is deprecated; in a future version of numpy, it will be understood as (type, (1,)) / '(1,)type'.\n",
      "  _np_qint32 = np.dtype([(\"qint32\", np.int32, 1)])\n",
      "/home/alessandro/miniconda3/envs/deepchem/lib/python3.7/site-packages/tensorflow/python/framework/dtypes.py:525: FutureWarning: Passing (type, 1) or '1type' as a synonym of type is deprecated; in a future version of numpy, it will be understood as (type, (1,)) / '(1,)type'.\n",
      "  np_resource = np.dtype([(\"resource\", np.ubyte, 1)])\n",
      "/home/alessandro/miniconda3/envs/deepchem/lib/python3.7/site-packages/tensorboard/compat/tensorflow_stub/dtypes.py:541: FutureWarning: Passing (type, 1) or '1type' as a synonym of type is deprecated; in a future version of numpy, it will be understood as (type, (1,)) / '(1,)type'.\n",
      "  _np_qint8 = np.dtype([(\"qint8\", np.int8, 1)])\n",
      "/home/alessandro/miniconda3/envs/deepchem/lib/python3.7/site-packages/tensorboard/compat/tensorflow_stub/dtypes.py:542: FutureWarning: Passing (type, 1) or '1type' as a synonym of type is deprecated; in a future version of numpy, it will be understood as (type, (1,)) / '(1,)type'.\n",
      "  _np_quint8 = np.dtype([(\"quint8\", np.uint8, 1)])\n",
      "/home/alessandro/miniconda3/envs/deepchem/lib/python3.7/site-packages/tensorboard/compat/tensorflow_stub/dtypes.py:543: FutureWarning: Passing (type, 1) or '1type' as a synonym of type is deprecated; in a future version of numpy, it will be understood as (type, (1,)) / '(1,)type'.\n",
      "  _np_qint16 = np.dtype([(\"qint16\", np.int16, 1)])\n",
      "/home/alessandro/miniconda3/envs/deepchem/lib/python3.7/site-packages/tensorboard/compat/tensorflow_stub/dtypes.py:544: FutureWarning: Passing (type, 1) or '1type' as a synonym of type is deprecated; in a future version of numpy, it will be understood as (type, (1,)) / '(1,)type'.\n",
      "  _np_quint16 = np.dtype([(\"quint16\", np.uint16, 1)])\n",
      "/home/alessandro/miniconda3/envs/deepchem/lib/python3.7/site-packages/tensorboard/compat/tensorflow_stub/dtypes.py:545: FutureWarning: Passing (type, 1) or '1type' as a synonym of type is deprecated; in a future version of numpy, it will be understood as (type, (1,)) / '(1,)type'.\n",
      "  _np_qint32 = np.dtype([(\"qint32\", np.int32, 1)])\n",
      "/home/alessandro/miniconda3/envs/deepchem/lib/python3.7/site-packages/tensorboard/compat/tensorflow_stub/dtypes.py:550: FutureWarning: Passing (type, 1) or '1type' as a synonym of type is deprecated; in a future version of numpy, it will be understood as (type, (1,)) / '(1,)type'.\n",
      "  np_resource = np.dtype([(\"resource\", np.ubyte, 1)])\n"
     ]
    }
   ],
   "source": [
    "import deepchem as dc"
   ]
  },
  {
   "cell_type": "markdown",
   "metadata": {},
   "source": [
    "## load data"
   ]
  },
  {
   "cell_type": "code",
   "execution_count": 2,
   "metadata": {},
   "outputs": [],
   "source": [
    "??dc.molnet.load_tox21"
   ]
  },
  {
   "cell_type": "code",
   "execution_count": 3,
   "metadata": {},
   "outputs": [],
   "source": [
    "??dc.data.CSVLoader"
   ]
  },
  {
   "cell_type": "code",
   "execution_count": 4,
   "metadata": {},
   "outputs": [],
   "source": [
    "??dc.utils.save.load_csv_files"
   ]
  },
  {
   "cell_type": "code",
   "execution_count": 7,
   "metadata": {},
   "outputs": [
    {
     "name": "stdout",
     "output_type": "stream",
     "text": [
      "/home/alessandro/workshop/Learning/CompBio/Code/alchem/notebooks/Understanding\r\n"
     ]
    }
   ],
   "source": [
    "!pwd"
   ]
  },
  {
   "cell_type": "code",
   "execution_count": 8,
   "metadata": {},
   "outputs": [],
   "source": [
    "from pathlib import Path\n",
    "import pandas as pd\n",
    "\n",
    "datasets_dir = Path('../../datasets/')\n",
    "tox21_dataset_file = datasets_dir/\"tox21.csv.gz\"\n",
    "tox21 = pd.read_csv(tox21_dataset_file)"
   ]
  },
  {
   "cell_type": "code",
   "execution_count": 9,
   "metadata": {},
   "outputs": [
    {
     "name": "stdout",
     "output_type": "stream",
     "text": [
      "<class 'pandas.core.frame.DataFrame'>\n",
      "RangeIndex: 8014 entries, 0 to 8013\n",
      "Data columns (total 14 columns):\n",
      " #   Column         Non-Null Count  Dtype  \n",
      "---  ------         --------------  -----  \n",
      " 0   NR-AR          7439 non-null   float64\n",
      " 1   NR-AR-LBD      6902 non-null   float64\n",
      " 2   NR-AhR         6691 non-null   float64\n",
      " 3   NR-Aromatase   5940 non-null   float64\n",
      " 4   NR-ER          6316 non-null   float64\n",
      " 5   NR-ER-LBD      7112 non-null   float64\n",
      " 6   NR-PPAR-gamma  6583 non-null   float64\n",
      " 7   SR-ARE         5935 non-null   float64\n",
      " 8   SR-ATAD5       7232 non-null   float64\n",
      " 9   SR-HSE         6594 non-null   float64\n",
      " 10  SR-MMP         5920 non-null   float64\n",
      " 11  SR-p53         6909 non-null   float64\n",
      " 12  mol_id         8014 non-null   object \n",
      " 13  smiles         8014 non-null   object \n",
      "dtypes: float64(12), object(2)\n",
      "memory usage: 876.7+ KB\n"
     ]
    }
   ],
   "source": [
    "tox21.info()"
   ]
  },
  {
   "cell_type": "markdown",
   "metadata": {},
   "source": [
    "## featurise"
   ]
  },
  {
   "cell_type": "code",
   "execution_count": 10,
   "metadata": {},
   "outputs": [],
   "source": [
    "?? dc.feat.graph_features.ConvMolFeaturizer"
   ]
  },
  {
   "cell_type": "code",
   "execution_count": 11,
   "metadata": {},
   "outputs": [],
   "source": [
    "??dc.feat.graph_features.ConvMolFeaturizer._get_atom_properties"
   ]
  },
  {
   "cell_type": "code",
   "execution_count": 12,
   "metadata": {},
   "outputs": [],
   "source": [
    "from rdkit import Chem\n",
    "from rdkit.Chem import rdmolfiles\n",
    "from rdkit.Chem import rdmolops\n",
    "import numpy as np"
   ]
  },
  {
   "cell_type": "code",
   "execution_count": 13,
   "metadata": {},
   "outputs": [
    {
     "data": {
      "text/plain": [
       "['CCOc1ccc2nc(S(N)(=O)=O)sc2c1',\n",
       " 'CCN1C(=O)NC(c2ccccc2)C1=O',\n",
       " 'CC[C@]1(O)CC[C@H]2[C@@H]3CCC4=CCCC[C@@H]4[C@H]3CC[C@@]21C',\n",
       " 'CCCN(CC)C(CC)C(=O)Nc1c(C)cccc1C',\n",
       " 'CC(O)(P(=O)(O)O)P(=O)(O)O']"
      ]
     },
     "execution_count": 13,
     "metadata": {},
     "output_type": "execute_result"
    }
   ],
   "source": [
    "sample_elems = tox21['smiles'].tolist()\n",
    "sample_elems[:5]"
   ]
  },
  {
   "cell_type": "markdown",
   "metadata": {},
   "source": [
    "### featurise one molecule step by step for understanding"
   ]
  },
  {
   "cell_type": "code",
   "execution_count": 14,
   "metadata": {},
   "outputs": [
    {
     "data": {
      "text/plain": [
       "rdkit.Chem.rdchem.Mol"
      ]
     },
     "execution_count": 14,
     "metadata": {},
     "output_type": "execute_result"
    }
   ],
   "source": [
    "mol = Chem.MolFromSmiles(sample_elems[0])\n",
    "type(mol)"
   ]
  },
  {
   "cell_type": "code",
   "execution_count": 15,
   "metadata": {},
   "outputs": [
    {
     "data": {
      "image/png": "[encoded data removed]",
      "text/plain": [
       "<rdkit.Chem.rdchem.Mol at 0x7fc979794710>"
      ]
     },
     "execution_count": 15,
     "metadata": {},
     "output_type": "execute_result"
    }
   ],
   "source": [
    "from rdkit.Chem.Draw import IPythonConsole \n",
    "mol"
   ]
  },
  {
   "cell_type": "code",
   "execution_count": 16,
   "metadata": {},
   "outputs": [
    {
     "name": "stdout",
     "output_type": "stream",
     "text": [
      "C\n",
      "C\n",
      "O\n",
      "C\n",
      "C\n",
      "C\n",
      "C\n",
      "N\n",
      "C\n",
      "S\n",
      "N\n",
      "O\n",
      "O\n",
      "S\n",
      "C\n",
      "C\n"
     ]
    }
   ],
   "source": [
    "for atom in mol.GetAtoms():\n",
    "    print(atom.GetSymbol())    "
   ]
  },
  {
   "cell_type": "code",
   "execution_count": 17,
   "metadata": {},
   "outputs": [
    {
     "name": "stdout",
     "output_type": "stream",
     "text": [
      "DOUBLE\n"
     ]
    }
   ],
   "source": [
    "print(mol.GetBonds()[10].GetBondType())"
   ]
  },
  {
   "cell_type": "code",
   "execution_count": 18,
   "metadata": {},
   "outputs": [],
   "source": [
    "# reorder the atoms so that they're always in the same canonical order\n",
    "new_order = rdmolfiles.CanonicalRankAtoms(mol)\n",
    "mol = rdmolops.RenumberAtoms(mol, new_order)"
   ]
  },
  {
   "cell_type": "code",
   "execution_count": 19,
   "metadata": {},
   "outputs": [],
   "source": [
    "def one_of_k_encoding(x, allowable_set):\n",
    "  if x not in allowable_set:\n",
    "    raise Exception(\"input {0} not in allowable set{1}:\".format(\n",
    "        x, allowable_set))\n",
    "  return list(map(lambda s: x == s, allowable_set))\n",
    "\n",
    "\n",
    "def one_of_k_encoding_unk(x, allowable_set):\n",
    "  \"\"\"Maps inputs not in the allowable set to the last element.\"\"\"\n",
    "  if x not in allowable_set:\n",
    "    x = allowable_set[-1]\n",
    "  return list(map(lambda s: x == s, allowable_set))\n",
    "\n",
    "def atom_features(atom,\n",
    "                  bool_id_feat=False,\n",
    "                  explicit_H=False,\n",
    "                  use_chirality=False):\n",
    "  \"\"\"Helper method used to compute per-atom feature vectors.\n",
    "\n",
    "  Many different featurization methods compute per-atom features such as ConvMolFeaturizer, WeaveFeaturizer. This method computes such features.\n",
    "\n",
    "  Parameters\n",
    "  ----------\n",
    "  bool_id_feat: bool, optional\n",
    "    Return an array of unique identifiers corresponding to atom type.\n",
    "  explicit_H: bool, optional\n",
    "    If true, model hydrogens explicitly\n",
    "  use_chirality: bool, optional\n",
    "    If true, use chirality information.\n",
    "  \"\"\"\n",
    "  if bool_id_feat:\n",
    "    return np.array([atom_to_id(atom)])\n",
    "  else:\n",
    "    from rdkit import Chem\n",
    "    results = one_of_k_encoding_unk(\n",
    "      atom.GetSymbol(),\n",
    "      [\n",
    "        'C',\n",
    "        'N',\n",
    "        'O',\n",
    "        'S',\n",
    "        'F',\n",
    "        'Si',\n",
    "        'P',\n",
    "        'Cl',\n",
    "        'Br',\n",
    "        'Mg',\n",
    "        'Na',\n",
    "        'Ca',\n",
    "        'Fe',\n",
    "        'As',\n",
    "        'Al',\n",
    "        'I',\n",
    "        'B',\n",
    "        'V',\n",
    "        'K',\n",
    "        'Tl',\n",
    "        'Yb',\n",
    "        'Sb',\n",
    "        'Sn',\n",
    "        'Ag',\n",
    "        'Pd',\n",
    "        'Co',\n",
    "        'Se',\n",
    "        'Ti',\n",
    "        'Zn',\n",
    "        'H',  # H?\n",
    "        'Li',\n",
    "        'Ge',\n",
    "        'Cu',\n",
    "        'Au',\n",
    "        'Ni',\n",
    "        'Cd',\n",
    "        'In',\n",
    "        'Mn',\n",
    "        'Zr',\n",
    "        'Cr',\n",
    "        'Pt',\n",
    "        'Hg',\n",
    "        'Pb',\n",
    "        'Unknown'\n",
    "      ]) + one_of_k_encoding(atom.GetDegree(),\n",
    "                             [0, 1, 2, 3, 4, 5, 6, 7, 8, 9, 10]) + \\\n",
    "              one_of_k_encoding_unk(atom.GetImplicitValence(), [0, 1, 2, 3, 4, 5, 6]) + \\\n",
    "              [atom.GetFormalCharge(), atom.GetNumRadicalElectrons()] + \\\n",
    "              one_of_k_encoding_unk(atom.GetHybridization(), [\n",
    "                Chem.rdchem.HybridizationType.SP, Chem.rdchem.HybridizationType.SP2,\n",
    "                Chem.rdchem.HybridizationType.SP3, Chem.rdchem.HybridizationType.\n",
    "                                    SP3D, Chem.rdchem.HybridizationType.SP3D2\n",
    "              ]) + [atom.GetIsAromatic()]\n",
    "    # In case of explicit hydrogen(QM8, QM9), avoid calling `GetTotalNumHs`\n",
    "    if not explicit_H:\n",
    "      results = results + one_of_k_encoding_unk(atom.GetTotalNumHs(),\n",
    "                                                [0, 1, 2, 3, 4])\n",
    "    if use_chirality:\n",
    "      try:\n",
    "        results = results + one_of_k_encoding_unk(\n",
    "            atom.GetProp('_CIPCode'),\n",
    "            ['R', 'S']) + [atom.HasProp('_ChiralityPossible')]\n",
    "      except:\n",
    "        results = results + [False, False\n",
    "                            ] + [atom.HasProp('_ChiralityPossible')]\n",
    "\n",
    "    return np.array(results)\n"
   ]
  },
  {
   "cell_type": "code",
   "execution_count": 20,
   "metadata": {},
   "outputs": [],
   "source": [
    "def get_atom_properties(atom):\n",
    "    \"\"\"\n",
    "    For a given input RDKit atom return the values of the properties\n",
    "    requested when initializing the featurize.  See the __init__ of the\n",
    "    class for a full description of the names of the properties\n",
    "\n",
    "    Parameters\n",
    "    ----------\n",
    "    atom: RDKit.rdchem.Atom\n",
    "      Atom to get the properties of\n",
    "    returns a numpy lists of floats of the same size as self.atom_properties\n",
    "    \"\"\"\n",
    "    values = []\n",
    "    for prop in []:\n",
    "      mol_prop_name = str(\"atom %08d %s\" % (atom.GetIdx(), prop))\n",
    "      try:\n",
    "        values.append(float(atom.GetOwningMol().GetProp(mol_prop_name)))\n",
    "      except KeyError:\n",
    "        raise KeyError(\"No property %s found in %s in %s\" %\n",
    "                       (mol_prop_name, atom.GetOwningMol(), self))\n",
    "    return np.array(values)"
   ]
  },
  {
   "cell_type": "code",
   "execution_count": 21,
   "metadata": {},
   "outputs": [],
   "source": [
    "# Get the node features\n",
    "idx_nodes = [(a.GetIdx(),\n",
    "              np.concatenate((atom_features(\n",
    "                  a, use_chirality=False),\n",
    "                              get_atom_properties(a))))\n",
    "             for a in mol.GetAtoms()]\n",
    "\n",
    "idx_nodes.sort()  # Sort by ind to ensure same order as rd_kit\n",
    "idx, nodes = list(zip(*idx_nodes))"
   ]
  },
  {
   "cell_type": "code",
   "execution_count": 22,
   "metadata": {},
   "outputs": [
    {
     "data": {
      "text/plain": [
       "75"
      ]
     },
     "execution_count": 22,
     "metadata": {},
     "output_type": "execute_result"
    }
   ],
   "source": [
    "len((atom_features(next(mol.GetAtoms()), use_chirality=False)))"
   ]
  },
  {
   "cell_type": "code",
   "execution_count": 23,
   "metadata": {},
   "outputs": [
    {
     "data": {
      "text/plain": [
       "array([], dtype=float64)"
      ]
     },
     "execution_count": 23,
     "metadata": {},
     "output_type": "execute_result"
    }
   ],
   "source": [
    "get_atom_properties(next(mol.GetAtoms()))"
   ]
  },
  {
   "cell_type": "code",
   "execution_count": 24,
   "metadata": {},
   "outputs": [
    {
     "data": {
      "text/plain": [
       "<rdkit.Chem.rdchem.Atom at 0x7fc903fcee40>"
      ]
     },
     "execution_count": 24,
     "metadata": {},
     "output_type": "execute_result"
    }
   ],
   "source": [
    " next(mol.GetAtoms())"
   ]
  },
  {
   "cell_type": "code",
   "execution_count": 25,
   "metadata": {},
   "outputs": [
    {
     "name": "stdout",
     "output_type": "stream",
     "text": [
      "16 atoms each with a feature set of dimensionality 75\n"
     ]
    }
   ],
   "source": [
    "print(f'{len(idx)} atoms each with a '\\\n",
    "      f'feature set of dimensionality {(nodes[0].shape[0])}')"
   ]
  },
  {
   "cell_type": "code",
   "execution_count": 26,
   "metadata": {},
   "outputs": [],
   "source": [
    "# Stack nodes into an array\n",
    "nodes = np.vstack(nodes)"
   ]
  },
  {
   "cell_type": "code",
   "execution_count": 27,
   "metadata": {},
   "outputs": [
    {
     "data": {
      "text/plain": [
       "(16, 75)"
      ]
     },
     "execution_count": 27,
     "metadata": {},
     "output_type": "execute_result"
    }
   ],
   "source": [
    "nodes.shape"
   ]
  },
  {
   "cell_type": "code",
   "execution_count": 28,
   "metadata": {},
   "outputs": [],
   "source": [
    "# Get bond lists with reverse edges included\n",
    "edge_list = [\n",
    "    (b.GetBeginAtomIdx(), b.GetEndAtomIdx()) for b in mol.GetBonds()\n",
    "]\n"
   ]
  },
  {
   "cell_type": "code",
   "execution_count": 29,
   "metadata": {},
   "outputs": [
    {
     "data": {
      "text/plain": [
       "[(0, 10),\n",
       " (10, 11),\n",
       " (11, 12),\n",
       " (12, 4),\n",
       " (4, 5),\n",
       " (5, 15),\n",
       " (15, 1),\n",
       " (1, 7),\n",
       " (7, 2),\n",
       " (2, 13),\n",
       " (2, 3),\n",
       " (2, 8),\n",
       " (7, 6),\n",
       " (6, 14),\n",
       " (14, 9),\n",
       " (9, 12),\n",
       " (14, 15)]"
      ]
     },
     "execution_count": 29,
     "metadata": {},
     "output_type": "execute_result"
    }
   ],
   "source": [
    "edge_list"
   ]
  },
  {
   "cell_type": "code",
   "execution_count": 30,
   "metadata": {},
   "outputs": [],
   "source": [
    "# Get canonical adjacency list\n",
    "canon_adj_list = [[] for mol_id in range(len(nodes))]\n",
    "for edge in edge_list:\n",
    "  canon_adj_list[edge[0]].append(edge[1])\n",
    "  canon_adj_list[edge[1]].append(edge[0])"
   ]
  },
  {
   "cell_type": "code",
   "execution_count": 31,
   "metadata": {},
   "outputs": [
    {
     "data": {
      "text/plain": [
       "[[10],\n",
       " [15, 7],\n",
       " [7, 13, 3, 8],\n",
       " [2],\n",
       " [12, 5],\n",
       " [4, 15],\n",
       " [7, 14],\n",
       " [1, 2, 6],\n",
       " [2],\n",
       " [14, 12],\n",
       " [0, 11],\n",
       " [10, 12],\n",
       " [11, 4, 9],\n",
       " [2],\n",
       " [6, 9, 15],\n",
       " [5, 1, 14]]"
      ]
     },
     "execution_count": 31,
     "metadata": {},
     "output_type": "execute_result"
    }
   ],
   "source": [
    "canon_adj_list"
   ]
  },
  {
   "cell_type": "markdown",
   "metadata": {},
   "source": [
    "### Convert  atom features and adjacency list into ConvMol object\n",
    "\n",
    "#####  ConvMol:\n",
    "\n",
    "Holds degree information\n",
    "\n",
    "Resorts order of atoms internally to be in order of increasing degree(hydrogens excluded). \n",
    "\n"
   ]
  },
  {
   "cell_type": "code",
   "execution_count": 32,
   "metadata": {},
   "outputs": [],
   "source": [
    "conv_mol = dc.feat.mol_graphs.ConvMol(nodes, canon_adj_list)"
   ]
  },
  {
   "cell_type": "code",
   "execution_count": 33,
   "metadata": {},
   "outputs": [],
   "source": [
    "??dc.feat.mol_graphs.ConvMol"
   ]
  },
  {
   "cell_type": "code",
   "execution_count": 34,
   "metadata": {},
   "outputs": [
    {
     "data": {
      "text/plain": [
       "['_deg_sort',\n",
       " 'agglomerate_mols',\n",
       " 'atom_features',\n",
       " 'canon_adj_list',\n",
       " 'deg_adj_lists',\n",
       " 'deg_block_indices',\n",
       " 'deg_id_list',\n",
       " 'deg_list',\n",
       " 'deg_slice',\n",
       " 'deg_start',\n",
       " 'degree_list',\n",
       " 'get_adjacency_list',\n",
       " 'get_atom_features',\n",
       " 'get_atoms_with_deg',\n",
       " 'get_deg_adjacency_lists',\n",
       " 'get_deg_slice',\n",
       " 'get_null_mol',\n",
       " 'get_num_atoms',\n",
       " 'get_num_atoms_with_deg',\n",
       " 'max_deg',\n",
       " 'membership',\n",
       " 'min_deg',\n",
       " 'n_atoms',\n",
       " 'n_feat']"
      ]
     },
     "execution_count": 34,
     "metadata": {},
     "output_type": "execute_result"
    }
   ],
   "source": [
    "def my_dir(obj):\n",
    "    return [x for x in dir(obj) if not x.startswith('__')]\n",
    "\n",
    "my_dir(conv_mol)"
   ]
  },
  {
   "cell_type": "markdown",
   "metadata": {},
   "source": [
    "## Repeat for all molecules"
   ]
  },
  {
   "cell_type": "code",
   "execution_count": 35,
   "metadata": {},
   "outputs": [],
   "source": [
    "def get_features_adj_list(mol):\n",
    "    # Get the node features\n",
    "    idx_nodes = [(a.GetIdx(),\n",
    "              np.concatenate((atom_features(\n",
    "                  a, use_chirality=False),\n",
    "                              get_atom_properties(a))))\n",
    "             for a in mol.GetAtoms()]\n",
    "\n",
    "    idx_nodes.sort()  # Sort by ind to ensure same order as rd_kit\n",
    "    idx, nodes = list(zip(*idx_nodes))\n",
    "    \n",
    "    # Stack nodes into an array\n",
    "    nodes = np.vstack(nodes)\n",
    "    \n",
    "    # Get bond lists with reverse edges included\n",
    "    edge_list = [\n",
    "        (b.GetBeginAtomIdx(), b.GetEndAtomIdx()) for b in mol.GetBonds()\n",
    "    ]\n",
    "\n",
    "    # Get canonical adjacency list\n",
    "    canon_adj_list = [[] for mol_id in range(len(nodes))]\n",
    "    for edge in edge_list:\n",
    "      canon_adj_list[edge[0]].append(edge[1])\n",
    "      canon_adj_list[edge[1]].append(edge[0])\n",
    "\n",
    "    \n",
    "\n",
    "    return nodes, canon_adj_list\n"
   ]
  },
  {
   "cell_type": "code",
   "execution_count": 36,
   "metadata": {},
   "outputs": [
    {
     "name": "stdout",
     "output_type": "stream",
     "text": [
      "Featurizing sample 0\n",
      "Featurizing sample 100\n",
      "Featurizing sample 200\n"
     ]
    },
    {
     "name": "stderr",
     "output_type": "stream",
     "text": [
      "RDKit WARNING: [19:01:23] WARNING: not removing hydrogen atom without neighbors\n"
     ]
    },
    {
     "name": "stdout",
     "output_type": "stream",
     "text": [
      "Featurizing sample 300\n",
      "Featurizing sample 400\n",
      "Featurizing sample 500\n",
      "Featurizing sample 600\n",
      "Featurizing sample 700\n",
      "Featurizing sample 800\n",
      "Featurizing sample 900\n",
      "Featurizing sample 1000\n",
      "Featurizing sample 1100\n",
      "Featurizing sample 1200\n",
      "Featurizing sample 1300\n",
      "Featurizing sample 1400\n",
      "Featurizing sample 1500\n",
      "Featurizing sample 1600\n",
      "Featurizing sample 1700\n",
      "Featurizing sample 1800\n",
      "Featurizing sample 1900\n",
      "Featurizing sample 2000\n",
      "Featurizing sample 2100\n",
      "Featurizing sample 2200\n",
      "Featurizing sample 2300\n",
      "Featurizing sample 2400\n",
      "Featurizing sample 2500\n",
      "Featurizing sample 2600\n",
      "Featurizing sample 2700\n",
      "Featurizing sample 2800\n",
      "Featurizing sample 2900\n",
      "Featurizing sample 3000\n",
      "Featurizing sample 3100\n",
      "Featurizing sample 3200\n",
      "Featurizing sample 3300\n",
      "Featurizing sample 3400\n",
      "Featurizing sample 3500\n",
      "Featurizing sample 3600\n",
      "Featurizing sample 3700\n",
      "Featurizing sample 3800\n",
      "Featurizing sample 3900\n",
      "Featurizing sample 4000\n",
      "Featurizing sample 4100\n",
      "Featurizing sample 4200\n",
      "Featurizing sample 4300\n",
      "Featurizing sample 4400\n",
      "Featurizing sample 4500\n",
      "Featurizing sample 4600\n",
      "Featurizing sample 4700\n",
      "Featurizing sample 4800\n",
      "Featurizing sample 4900\n",
      "Featurizing sample 5000\n",
      "Featurizing sample 5100\n",
      "Featurizing sample 5200\n",
      "Featurizing sample 5300\n",
      "Featurizing sample 5400\n",
      "Featurizing sample 5500\n",
      "Featurizing sample 5600\n",
      "Featurizing sample 5700\n",
      "Featurizing sample 5800\n",
      "Featurizing sample 5900\n",
      "Featurizing sample 6000\n",
      "Featurizing sample 6100\n",
      "Featurizing sample 6200\n",
      "Featurizing sample 6300\n",
      "Featurizing sample 6400\n",
      "Featurizing sample 6500\n",
      "Featurizing sample 6600\n",
      "Featurizing sample 6700\n",
      "Featurizing sample 6800\n",
      "Featurizing sample 6900\n",
      "Featurizing sample 7000\n",
      "Featurizing sample 7100\n",
      "Featurizing sample 7200\n",
      "Featurizing sample 7300\n",
      "Featurizing sample 7400\n",
      "Featurizing sample 7500\n",
      "Featurizing sample 7600\n",
      "Featurizing sample 7700\n",
      "Featurizing sample 7800\n",
      "Featurizing sample 7900\n",
      "Featurizing sample 8000\n"
     ]
    }
   ],
   "source": [
    "features = []\n",
    "for ind, elem in enumerate(sample_elems):\n",
    "    mol = Chem.MolFromSmiles(elem)\n",
    "    # TODO (ytz) this is a bandage solution to reorder the atoms so\n",
    "    # that they're always in the same canonical order. Presumably this\n",
    "    # should be correctly implemented in the future for graph mols.\n",
    "    if mol:\n",
    "      new_order = rdmolfiles.CanonicalRankAtoms(mol)\n",
    "      mol = rdmolops.RenumberAtoms(mol, new_order)\n",
    "    if ind % 100 == 0:\n",
    "      print(\"Featurizing sample %d\" % ind)\n",
    "    nodes, adj_list = get_features_adj_list(mol)\n",
    "    features.append(dc.feat.mol_graphs.ConvMol(nodes, adj_list))"
   ]
  },
  {
   "cell_type": "code",
   "execution_count": 61,
   "metadata": {},
   "outputs": [
    {
     "data": {
      "text/plain": [
       "True"
      ]
     },
     "execution_count": 61,
     "metadata": {},
     "output_type": "execute_result"
    }
   ],
   "source": [
    "len(features) == len(sample_elems)"
   ]
  },
  {
   "cell_type": "code",
   "execution_count": 62,
   "metadata": {},
   "outputs": [
    {
     "data": {
      "text/plain": [
       "deepchem.feat.mol_graphs.ConvMol"
      ]
     },
     "execution_count": 62,
     "metadata": {},
     "output_type": "execute_result"
    }
   ],
   "source": [
    "type(features[0])"
   ]
  },
  {
   "cell_type": "markdown",
   "metadata": {},
   "source": [
    "### Back to using prebuilts"
   ]
  },
  {
   "cell_type": "code",
   "execution_count": 64,
   "metadata": {},
   "outputs": [
    {
     "name": "stdout",
     "output_type": "stream",
     "text": [
      "Loading raw samples now.\n",
      "shard_size: 8192\n",
      "About to start loading CSV from /tmp/tox21.csv.gz\n",
      "Loading shard 1 of size 8192.\n",
      "Featurizing sample 0\n"
     ]
    },
    {
     "name": "stderr",
     "output_type": "stream",
     "text": [
      "RDKit WARNING: [09:40:37] WARNING: not removing hydrogen atom without neighbors\n"
     ]
    },
    {
     "name": "stdout",
     "output_type": "stream",
     "text": [
      "Featurizing sample 1000\n",
      "Featurizing sample 2000\n",
      "Featurizing sample 3000\n",
      "Featurizing sample 4000\n",
      "Featurizing sample 5000\n",
      "Featurizing sample 6000\n",
      "Featurizing sample 7000\n",
      "TIMING: featurizing shard 0 took 8.122 s\n",
      "TIMING: dataset construction took 9.888 s\n",
      "Loading dataset from disk.\n",
      "TIMING: dataset construction took 1.910 s\n",
      "Loading dataset from disk.\n",
      "TIMING: dataset construction took 0.822 s\n",
      "Loading dataset from disk.\n",
      "TIMING: dataset construction took 0.943 s\n",
      "Loading dataset from disk.\n",
      "TIMING: dataset construction took 1.840 s\n",
      "Loading dataset from disk.\n",
      "TIMING: dataset construction took 0.201 s\n",
      "Loading dataset from disk.\n",
      "TIMING: dataset construction took 0.208 s\n",
      "Loading dataset from disk.\n"
     ]
    }
   ],
   "source": [
    "tox21_tasks, tox21_datasets, transformers = dc.molnet.load_tox21(featurizer='GraphConv', reload=False)\n",
    "train_dataset, valid_dataset, test_dataset = tox21_datasets"
   ]
  },
  {
   "cell_type": "code",
   "execution_count": 65,
   "metadata": {},
   "outputs": [
    {
     "data": {
      "text/plain": [
       "deepchem.feat.mol_graphs.ConvMol"
      ]
     },
     "execution_count": 65,
     "metadata": {},
     "output_type": "execute_result"
    }
   ],
   "source": [
    "type(train_dataset.X[0])"
   ]
  },
  {
   "cell_type": "code",
   "execution_count": 69,
   "metadata": {},
   "outputs": [
    {
     "data": {
      "text/plain": [
       "(16, 75)"
      ]
     },
     "execution_count": 69,
     "metadata": {},
     "output_type": "execute_result"
    }
   ],
   "source": [
    "train_dataset.X[0].atom_features.shape"
   ]
  },
  {
   "cell_type": "markdown",
   "metadata": {},
   "source": [
    "\n",
    "# Model & Training"
   ]
  },
  {
   "cell_type": "code",
   "execution_count": 72,
   "metadata": {},
   "outputs": [],
   "source": [
    "from deepchem.models.graph_models import GraphConvModel"
   ]
  },
  {
   "cell_type": "code",
   "execution_count": 73,
   "metadata": {},
   "outputs": [],
   "source": [
    "??GraphConvModel.__init__"
   ]
  },
  {
   "cell_type": "markdown",
   "metadata": {},
   "source": [
    "![title](GCN.png)"
   ]
  },
  {
   "cell_type": "code",
   "execution_count": 74,
   "metadata": {},
   "outputs": [],
   "source": [
    "from deepchem.models.layers import GraphConv"
   ]
  },
  {
   "cell_type": "code",
   "execution_count": 75,
   "metadata": {},
   "outputs": [],
   "source": [
    "??GraphConv"
   ]
  },
  {
   "cell_type": "markdown",
   "metadata": {},
   "source": [
    "### key inputs\n",
    "\n",
    "- deg_adj\n",
    "- membership\n",
    "- degree slice\n"
   ]
  },
  {
   "cell_type": "code",
   "execution_count": null,
   "metadata": {},
   "outputs": [],
   "source": []
  }
 ],
 "metadata": {
  "kernelspec": {
   "display_name": "Python 3.8.2 64-bit ('deepchem': conda)",
   "language": "python",
   "name": "python38264bitdeepchemconda48ca8f81eb84421da64d15779726153c"
  },
  "language_info": {
   "codemirror_mode": {
    "name": "ipython",
    "version": 3
   },
   "file_extension": ".py",
   "mimetype": "text/x-python",
   "name": "python",
   "nbconvert_exporter": "python",
   "pygments_lexer": "ipython3",
   "version": "3.7.6"
  }
 },
 "nbformat": 4,
 "nbformat_minor": 4
}
